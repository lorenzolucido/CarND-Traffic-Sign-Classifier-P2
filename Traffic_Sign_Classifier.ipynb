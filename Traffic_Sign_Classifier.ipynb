{
 "cells": [
  {
   "cell_type": "markdown",
   "metadata": {},
   "source": [
    "# Self-Driving Car Engineer Nanodegree\n",
    "\n",
    "## Deep Learning\n",
    "\n",
    "## Project: Build a Traffic Sign Recognition Classifier\n",
    "\n",
    "In this notebook, a template is provided for you to implement your functionality in stages, which is required to successfully complete this project. If additional code is required that cannot be included in the notebook, be sure that the Python code is successfully imported and included in your submission if necessary. \n",
    "\n",
    "> **Note**: Once you have completed all of the code implementations, you need to finalize your work by exporting the iPython Notebook as an HTML document. Before exporting the notebook to html, all of the code cells need to have been run so that reviewers can see the final implementation and output. You can then export the notebook by using the menu above and navigating to  \\n\",\n",
    "    \"**File -> Download as -> HTML (.html)**. Include the finished document along with this notebook as your submission. \n",
    "\n",
    "In addition to implementing code, there is a writeup to complete. The writeup should be completed in a separate file, which can be either a markdown file or a pdf document. There is a [write up template](https://github.com/udacity/CarND-Traffic-Sign-Classifier-Project/blob/master/writeup_template.md) that can be used to guide the writing process. Completing the code template and writeup template will cover all of the [rubric points](https://review.udacity.com/#!/rubrics/481/view) for this project.\n",
    "\n",
    "The [rubric](https://review.udacity.com/#!/rubrics/481/view) contains \"Stand Out Suggestions\" for enhancing the project beyond the minimum requirements. The stand out suggestions are optional. If you decide to pursue the \"stand out suggestions\", you can include the code in this Ipython notebook and also discuss the results in the writeup file.\n",
    "\n",
    "\n",
    ">**Note:** Code and Markdown cells can be executed using the **Shift + Enter** keyboard shortcut. In addition, Markdown cells can be edited by typically double-clicking the cell to enter edit mode."
   ]
  },
  {
   "cell_type": "markdown",
   "metadata": {},
   "source": [
    "---\n",
    "## Step 0: Load The Data"
   ]
  },
  {
   "cell_type": "code",
   "execution_count": 1,
   "metadata": {
    "collapsed": true
   },
   "outputs": [],
   "source": [
    "# Load pickled data\n",
    "import pickle\n",
    "\n",
    "# TODO: Fill this in based on where you saved the training and testing data\n",
    "\n",
    "training_file = 'data/train.p'\n",
    "validation_file= 'data/valid.p'\n",
    "testing_file = 'data/test.p'\n",
    "\n",
    "with open(training_file, mode='rb') as f:\n",
    "    train = pickle.load(f)\n",
    "with open(validation_file, mode='rb') as f:\n",
    "    valid = pickle.load(f)\n",
    "with open(testing_file, mode='rb') as f:\n",
    "    test = pickle.load(f)\n",
    "    \n",
    "X_train, y_train = train['features'], train['labels']\n",
    "X_valid, y_valid = valid['features'], valid['labels']\n",
    "X_test, y_test = test['features'], test['labels']"
   ]
  },
  {
   "cell_type": "markdown",
   "metadata": {},
   "source": [
    "---\n",
    "\n",
    "## Step 1: Dataset Summary & Exploration\n",
    "\n",
    "The pickled data is a dictionary with 4 key/value pairs:\n",
    "\n",
    "- `'features'` is a 4D array containing raw pixel data of the traffic sign images, (num examples, width, height, channels).\n",
    "- `'labels'` is a 1D array containing the label/class id of the traffic sign. The file `signnames.csv` contains id -> name mappings for each id.\n",
    "- `'sizes'` is a list containing tuples, (width, height) representing the original width and height the image.\n",
    "- `'coords'` is a list containing tuples, (x1, y1, x2, y2) representing coordinates of a bounding box around the sign in the image. **THESE COORDINATES ASSUME THE ORIGINAL IMAGE. THE PICKLED DATA CONTAINS RESIZED VERSIONS (32 by 32) OF THESE IMAGES**\n",
    "\n",
    "Complete the basic data summary below. Use python, numpy and/or pandas methods to calculate the data summary rather than hard coding the results. For example, the [pandas shape method](http://pandas.pydata.org/pandas-docs/stable/generated/pandas.DataFrame.shape.html) might be useful for calculating some of the summary results. "
   ]
  },
  {
   "cell_type": "markdown",
   "metadata": {},
   "source": [
    "### Provide a Basic Summary of the Data Set Using Python, Numpy and/or Pandas"
   ]
  },
  {
   "cell_type": "code",
   "execution_count": 2,
   "metadata": {},
   "outputs": [
    {
     "name": "stdout",
     "output_type": "stream",
     "text": [
      "Number of examples -- Training:34799 | Validation:4410 | Testing:12630\n",
      "Image data shape = (32, 32, 3)\n",
      "Number of classes = 43\n"
     ]
    }
   ],
   "source": [
    "### Replace each question mark with the appropriate value. \n",
    "### Use python, pandas or numpy methods rather than hard coding the results\n",
    "import numpy as np\n",
    "\n",
    "# TODO: Number of training examples\n",
    "n_train = X_train.shape[0]\n",
    "\n",
    "# TODO: Number of validation examples\n",
    "n_validation = X_valid.shape[0]\n",
    "\n",
    "# TODO: Number of testing examples.\n",
    "n_test = X_test.shape[0]\n",
    "\n",
    "# TODO: What's the shape of an traffic sign image?\n",
    "image_shape = X_train[0].shape\n",
    "\n",
    "# TODO: How many unique classes/labels there are in the dataset.\n",
    "n_classes = np.unique(y_train).shape[0]\n",
    "\n",
    "print(\"Number of examples -- Training:{train} | Validation:{valid} | Testing:{test}\"\\\n",
    "      .format(train=n_train, valid=n_validation, test=n_test))\n",
    "print(\"Image data shape =\", image_shape)\n",
    "print(\"Number of classes =\", n_classes)"
   ]
  },
  {
   "cell_type": "markdown",
   "metadata": {},
   "source": [
    "### Include an exploratory visualization of the dataset"
   ]
  },
  {
   "cell_type": "markdown",
   "metadata": {},
   "source": [
    "Visualize the German Traffic Signs Dataset using the pickled file(s). This is open ended, suggestions include: plotting traffic sign images, plotting the count of each sign, etc. \n",
    "\n",
    "The [Matplotlib](http://matplotlib.org/) [examples](http://matplotlib.org/examples/index.html) and [gallery](http://matplotlib.org/gallery.html) pages are a great resource for doing visualizations in Python.\n",
    "\n",
    "**NOTE:** It's recommended you start with something simple first. If you wish to do more, come back to it after you've completed the rest of the sections. It can be interesting to look at the distribution of classes in the training, validation and test set. Is the distribution the same? Are there more examples of some classes than others?"
   ]
  },
  {
   "cell_type": "code",
   "execution_count": 3,
   "metadata": {},
   "outputs": [
    {
     "data": {
      "image/png": "[encoded data removed]",
      "text/plain": [
       "<matplotlib.figure.Figure at 0x7fb2257c1b00>"
      ]
     },
     "metadata": {},
     "output_type": "display_data"
    }
   ],
   "source": [
    "### Data exploration visualization code goes here.\n",
    "### Feel free to use as many code cells as needed.\n",
    "import matplotlib.pyplot as plt\n",
    "import matplotlib.image as mpimg\n",
    "# Visualizations will be shown in the notebook.\n",
    "%matplotlib inline\n",
    "fig = plt.figure(figsize=(16,2))\n",
    "\n",
    "# Some image examples\n",
    "for img_nb in range(8):\n",
    "    random_row = X_train[np.random.randint(0,X_train.shape[0])]\n",
    "    fig.add_subplot(1, 8, img_nb + 1)\n",
    "    plt.imshow(random_row)"
   ]
  },
  {
   "cell_type": "code",
   "execution_count": 4,
   "metadata": {},
   "outputs": [
    {
     "data": {
      "image/png": "[encoded data removed]",
      "text/plain": [
       "<matplotlib.figure.Figure at 0x7fb2021e94e0>"
      ]
     },
     "metadata": {},
     "output_type": "display_data"
    }
   ],
   "source": [
    "# Repartition of classes \n",
    "fig = plt.figure(figsize=(16,4))\n",
    "\n",
    "for pos,name,y in [(1,'training',y_train), (2,'validation',y_valid), (3,'testing',y_test)]:\n",
    "    unique, counts = np.unique(y, return_counts=True)\n",
    "    fig.add_subplot(1, 3, pos)\n",
    "    plt.bar(unique, counts)\n",
    "    plt.title('Classes repartition in {name} set'.format(name=name))\n",
    "\n",
    "plt.savefig('classes_repartition.png')"
   ]
  },
  {
   "cell_type": "markdown",
   "metadata": {},
   "source": [
    "----\n",
    "\n",
    "## Step 2: Design and Test a Model Architecture\n",
    "\n",
    "Design and implement a deep learning model that learns to recognize traffic signs. Train and test your model on the [German Traffic Sign Dataset](http://benchmark.ini.rub.de/?section=gtsrb&subsection=dataset).\n",
    "\n",
    "The LeNet-5 implementation shown in the [classroom](https://classroom.udacity.com/nanodegrees/nd013/parts/fbf77062-5703-404e-b60c-95b78b2f3f9e/modules/6df7ae49-c61c-4bb2-a23e-6527e69209ec/lessons/601ae704-1035-4287-8b11-e2c2716217ad/concepts/d4aca031-508f-4e0b-b493-e7b706120f81) at the end of the CNN lesson is a solid starting point. You'll have to change the number of classes and possibly the preprocessing, but aside from that it's plug and play! \n",
    "\n",
    "With the LeNet-5 solution from the lecture, you should expect a validation set accuracy of about 0.89. To meet specifications, the validation set accuracy will need to be at least 0.93. It is possible to get an even higher accuracy, but 0.93 is the minimum for a successful project submission. \n",
    "\n",
    "There are various aspects to consider when thinking about this problem:\n",
    "\n",
    "- Neural network architecture (is the network over or underfitting?)\n",
    "- Play around preprocessing techniques (normalization, rgb to grayscale, etc)\n",
    "- Number of examples per label (some have more than others).\n",
    "- Generate fake data.\n",
    "\n",
    "Here is an example of a [published baseline model on this problem](http://yann.lecun.com/exdb/publis/pdf/sermanet-ijcnn-11.pdf). It's not required to be familiar with the approach used in the paper but, it's good practice to try to read papers like these."
   ]
  },
  {
   "cell_type": "markdown",
   "metadata": {},
   "source": [
    "### Pre-process the Data Set (normalization, grayscale, etc.)"
   ]
  },
  {
   "cell_type": "markdown",
   "metadata": {},
   "source": [
    "Minimally, the image data should be normalized so that the data has mean zero and equal variance. For image data, `(pixel - 128)/ 128` is a quick way to approximately normalize the data and can be used in this project. \n",
    "\n",
    "Other pre-processing steps are optional. You can try different techniques to see if it improves performance. \n",
    "\n",
    "Use the code cell (or multiple code cells, if necessary) to implement the first step of your project."
   ]
  },
  {
   "cell_type": "markdown",
   "metadata": {},
   "source": [
    "For this part, I looked into different normalization techniques: \n",
    "- the suggested `(pixel - 128) / 128` &rarr; `normalize_basic`\n",
    "- a standardization on the same channels &rarr; `normalize_channels`\n",
    "- a standardization on the full image, using tensorflow function `tf.image.per_image_standardization`. (see [TensorFlow documentation](https://www.tensorflow.org/api_docs/python/tf/image/per_image_standardization)) &rarr; `normalize_image`\n",
    "- converting the image to grayscale\n",
    "\n",
    "\n",
    "Eventually, after looking at the results, I picked the full-rgb standardization by channels."
   ]
  },
  {
   "cell_type": "code",
   "execution_count": 5,
   "metadata": {
    "collapsed": true
   },
   "outputs": [],
   "source": [
    "grayscale = False"
   ]
  },
  {
   "cell_type": "code",
   "execution_count": 86,
   "metadata": {},
   "outputs": [
    {
     "data": {
      "image/png": "[encoded data removed]",
      "text/plain": [
       "<matplotlib.figure.Figure at 0x7fb1a4260240>"
      ]
     },
     "metadata": {},
     "output_type": "display_data"
    }
   ],
   "source": [
    "import tensorflow as tf\n",
    "# Showing the difference between the original (resized) image and the preprocessed one, using dif\n",
    "fig = plt.figure(figsize=(16,4))\n",
    "random_image = np.random.randint(0,X_train.shape[0])\n",
    "fig.add_subplot(1, 5, 1)\n",
    "plt.imshow(X_train[random_image])\n",
    "\n",
    "im = tf.placeholder(tf.float32, (32, 32, 3))\n",
    "\n",
    "grayscale_image = lambda image: tf.image.rgb_to_grayscale(image)\n",
    "hsv_image = lambda image: tf.image.rgb_to_hsv(image)\n",
    "normalize_basic = lambda image: (image - 128) / 128 # The simple method in the instructions\n",
    "normalize_image = lambda image: tf.image.per_image_standardization(image) # tensorflow direct technique\n",
    "\n",
    "# Custom: we subtract the mean of the channel and divide by the stdev of the channel\n",
    "def normalize_channels(image):\n",
    "    mean, var = tf.nn.moments(image,axes=[0,1], keep_dims=True)\n",
    "    return (image - mean) / tf.sqrt(var)\n",
    "\n",
    "with tf.Session() as session:\n",
    "    grayscaled_image = session.run(grayscale_image(im), feed_dict={im: X_train[random_image]})\n",
    "    hsved_image = session.run(hsv_image(im), feed_dict={im: X_train[random_image]})\n",
    "    normalized_image_channels = session.run(normalize_channels(im), feed_dict={im: X_train[random_image]})\n",
    "    normalized_image_full = session.run(normalize_image(im), feed_dict={im: X_train[random_image]})\n",
    "    normalized_image_basic = session.run(normalize_basic(im), feed_dict={im: X_train[random_image]})\n",
    "\n",
    "fig.add_subplot(1, 5, 2)\n",
    "plt.imshow(grayscaled_image.squeeze(), cmap='gray')\n",
    "fig.add_subplot(1, 5, 3)\n",
    "plt.imshow(hsved_image);\n",
    "fig.add_subplot(1, 5, 4)\n",
    "plt.imshow(normalized_image_channels);\n",
    "fig.add_subplot(1, 5, 5)\n",
    "plt.imshow(normalized_image_full);"
   ]
  },
  {
   "cell_type": "code",
   "execution_count": 15,
   "metadata": {},
   "outputs": [
    {
     "data": {
      "image/png": "[encoded data removed]",
      "text/plain": [
       "<matplotlib.figure.Figure at 0x7fb203150048>"
      ]
     },
     "metadata": {},
     "output_type": "display_data"
    }
   ],
   "source": [
    "# Preprocess function\n",
    "preprocess = lambda image: normalize_channels(grayscale_image(image)) if grayscale else normalize_channels(image)\n",
    "\n",
    "with tf.Session() as session:\n",
    "    preprocessed_image = session.run(preprocess(im), feed_dict={im: X_train[random_image]})\n",
    "\n",
    "fig = plt.figure(figsize=(16,4))\n",
    "fig.add_subplot(1, 2, 1)\n",
    "plt.imshow(X_train[random_image])\n",
    "fig.add_subplot(1, 2, 2)\n",
    "plt.imshow(preprocessed_image);\n",
    "\n",
    "plt.savefig('preprocessing.png')"
   ]
  },
  {
   "cell_type": "markdown",
   "metadata": {},
   "source": [
    "### Data Augmentation: ramdomly modifying the images\n",
    "\n",
    "I also added a simple data augmentation function, which randomly modifies brightness, saturation and constrast, and also randomly distorts the image. This is inspired form [Google's inception tools](https://github.com/tensorflow/models/blob/master/inception/inception/image_processing.py)."
   ]
  },
  {
   "cell_type": "code",
   "execution_count": 167,
   "metadata": {
    "collapsed": true
   },
   "outputs": [],
   "source": [
    "def data_augment(image):\n",
    "    # Play with brightness, saturation, hue and contrast\n",
    "    image = tf.image.random_brightness(image, max_delta=32. / 255.)    \n",
    "    image = tf.image.random_saturation(image, lower=0.5, upper=1.5)\n",
    "    #image = tf.image.random_hue(image, max_delta=0.2)\n",
    "    image = tf.image.random_contrast(image, lower=0.5, upper=1.5)\n",
    "    image = tf.clip_by_value(image, 0.0, 255.0)\n",
    "    \n",
    "    # Crop randomly the image\n",
    "    bbox_begin, bbox_size, distort_bbox = tf.image.sample_distorted_bounding_box(\n",
    "        tf.shape(image),\n",
    "        bounding_boxes=tf.constant([[[0.0,0.0,1.0,1.0]]]),\n",
    "        min_object_covered=0.7,\n",
    "        aspect_ratio_range=[0.75, 1.33],\n",
    "        area_range=[0.01, 1.0],\n",
    "        max_attempts=100,\n",
    "        use_image_if_no_bounding_boxes=True)\n",
    "    \n",
    "    distorted_image = tf.slice(image, bbox_begin, bbox_size)\n",
    "    distorted_image = tf.image.resize_images(distorted_image, [32,32], method=1)\n",
    "    distorted_image.set_shape([32, 32, 3])\n",
    "    \n",
    "    return distorted_image"
   ]
  },
  {
   "cell_type": "code",
   "execution_count": 175,
   "metadata": {
    "scrolled": true
   },
   "outputs": [
    {
     "data": {
      "image/png": "[encoded data removed]",
      "text/plain": [
       "<matplotlib.figure.Figure at 0x7fb164e559e8>"
      ]
     },
     "metadata": {},
     "output_type": "display_data"
    }
   ],
   "source": [
    "with tf.Session() as session:\n",
    "    augmented_image = session.run(data_augment(im), feed_dict={im: X_train[random_image]})\n",
    "\n",
    "fig = plt.figure(figsize=(16,4))\n",
    "fig.add_subplot(1, 2, 1)\n",
    "plt.imshow(X_train[random_image])\n",
    "fig.add_subplot(1, 2, 2)\n",
    "plt.imshow(np.uint8(augmented_image));\n",
    "\n",
    "plt.savefig('augmentation.png')"
   ]
  },
  {
   "cell_type": "markdown",
   "metadata": {},
   "source": [
    "### Model Architecture - LorenzoNet-5\n",
    "\n",
    "Here, I decided to go for a VGG architecture as explained in [cs231 Notes](http://cs231n.github.io/convolutional-networks/#case). I started with a typical LeNet, added dropouts on fully connected layers, performed 3x3 convolutions (with padding 1) and 2x2 without padding."
   ]
  },
  {
   "cell_type": "code",
   "execution_count": 182,
   "metadata": {
    "collapsed": true
   },
   "outputs": [],
   "source": [
    "### Define your architecture here.\n",
    "### Feel free to use as many code cells as needed.\n",
    "from tensorflow.contrib.layers import flatten\n",
    "\n",
    "def LorenzoNet(x, num_classes, keep_prob, grayscale, num_convolutions=3, num_fully_connected=3, first_depth=12):    \n",
    "    # Arguments used for tf.truncated_normal, randomly defines variables for the weights and biases for each layer\n",
    "    mu = 0\n",
    "    sigma = 0.1    \n",
    "    steps = [ None ] * 15\n",
    "    nb_input_channels = 1 if grayscale else 3\n",
    "    \n",
    "    # Layer 1: Convolutional. Input = 32x32x(3,1). Output = 32x32x16.\n",
    "    F_W_conv1 = tf.Variable(tf.truncated_normal((3,3,nb_input_channels,16), mu, sigma))\n",
    "    F_b_conv1 = tf.Variable(tf.zeros(16))    \n",
    "    steps[0] = tf.nn.conv2d(x, F_W_conv1, [1,1,1,1], 'SAME') + F_b_conv1\n",
    "    \n",
    "    # Activation.\n",
    "    steps[1] = tf.nn.relu(steps[0], name='conv1')\n",
    "        \n",
    "    # Pooling. Input = 32x32x16. Output = 16x16x16.\n",
    "    steps[2] = tf.nn.max_pool(steps[1], [1,2,2,1], [1,2,2,1], 'VALID')\n",
    "        \n",
    "    # Layer 2: Convolutional. Input = 16x16x16. Output = 16x16x32.\n",
    "    F_W_conv2 = tf.Variable(tf.truncated_normal((3,3,16,32),mu,sigma))\n",
    "    F_b_conv2 = tf.Variable(tf.zeros(32)) \n",
    "    steps[3]  = tf.nn.conv2d(steps[2], F_W_conv2, [1,1,1,1], 'SAME') + F_b_conv2\n",
    "        \n",
    "    # Activation.\n",
    "    steps[4] = tf.nn.relu(steps[3], name='conv2')\n",
    "        \n",
    "    # Pooling. Input = 16x16x32, Output = 8x8x32.\n",
    "    steps[5] = tf.nn.max_pool(steps[4], [1,2,2,1], [1,2,2,1], 'VALID')\n",
    "    \n",
    "    \n",
    "    \n",
    "    # Layer 3: Convolutional. Input = 8x8x32. Output = 8x8x64.\n",
    "    F_W_conv3 = tf.Variable(tf.truncated_normal((3,3,32,64),mu,sigma))\n",
    "    F_b_conv3 = tf.Variable(tf.zeros(64)) \n",
    "    steps[6]  = tf.nn.conv2d(steps[5], F_W_conv3, [1,1,1,1], 'SAME') + F_b_conv3\n",
    "        \n",
    "    # Activation.\n",
    "    steps[7] = tf.nn.relu(steps[6], name='conv3')\n",
    "        \n",
    "    # Pooling. Input = 8x8x64. Output = 4x4x64.\n",
    "    steps[8] = tf.nn.max_pool(steps[7], [1,2,2,1], [1,2,2,1], 'VALID')\n",
    "    \n",
    "    \n",
    "               \n",
    "    # Flatten. Input = 4x4x48. Output = 1024.\n",
    "    steps[9] = flatten(steps[8])\n",
    "        \n",
    "    # Layer 3: Fully Connected. Input = 1024. Output = 120.\n",
    "    weights_full1 = tf.Variable(tf.truncated_normal((1024,120),mu,sigma))\n",
    "    biases_full1 = tf.Variable(tf.zeros(120)) \n",
    "    steps[10] = tf.matmul(steps[9], weights_full1) + biases_full1\n",
    "    \n",
    "    # Activation.\n",
    "    steps[11] = tf.nn.dropout(tf.nn.relu(steps[10]), keep_prob, name='full1')\n",
    "    \n",
    "    # Layer 4: Fully Connected. Input = 240. Output = 84.\n",
    "    weights_full2 = tf.Variable(tf.truncated_normal((120,84),mu,sigma))\n",
    "    biases_full2 = tf.Variable(tf.zeros(84)) \n",
    "    steps[12] = tf.matmul(steps[11], weights_full2) + biases_full2\n",
    "    \n",
    "    # Activation.\n",
    "    steps[13] = tf.nn.dropout(tf.nn.relu(steps[12]), keep_prob, name='full2')\n",
    "    \n",
    "    # Layer 5: Fully Connected. Input = 84. Output = num_classes.\n",
    "    weights_full3 = tf.Variable(tf.truncated_normal((84,num_classes),mu,sigma))\n",
    "    biases_full3 = tf.Variable(tf.zeros(num_classes)) \n",
    "    steps[14] = tf.matmul(steps[13], weights_full3) + biases_full3\n",
    "    \n",
    "    logits = steps[14]\n",
    "    \n",
    "    return logits"
   ]
  },
  {
   "cell_type": "markdown",
   "metadata": {},
   "source": [
    "### Train, Validate and Test the Model"
   ]
  },
  {
   "cell_type": "markdown",
   "metadata": {},
   "source": [
    "A validation set can be used to assess how well the model is performing. A low accuracy on the training and validation\n",
    "sets imply underfitting. A high accuracy on the training set but low accuracy on the validation set implies overfitting."
   ]
  },
  {
   "cell_type": "markdown",
   "metadata": {},
   "source": [
    "#### 1. Features and Labels\n",
    "Here we set our placeholders for the network."
   ]
  },
  {
   "cell_type": "code",
   "execution_count": 183,
   "metadata": {
    "collapsed": true
   },
   "outputs": [],
   "source": [
    "import tensorflow as tf\n",
    "\n",
    "x = tf.placeholder(tf.float32, (None, 32, 32, 3))\n",
    "y = tf.placeholder(tf.int32, (None))\n",
    "one_hot_y = tf.one_hot(y, n_classes)\n",
    "\n",
    "# Dropouts keep probability\n",
    "keep_prob = tf.placeholder(tf.float32)"
   ]
  },
  {
   "cell_type": "markdown",
   "metadata": {},
   "source": [
    "#### 2. Batch size and Epochs"
   ]
  },
  {
   "cell_type": "code",
   "execution_count": 192,
   "metadata": {
    "collapsed": true
   },
   "outputs": [],
   "source": [
    "EPOCHS = 3*10\n",
    "BATCH_SIZE = 128"
   ]
  },
  {
   "cell_type": "markdown",
   "metadata": {},
   "source": [
    "#### 3. Training pipeline"
   ]
  },
  {
   "cell_type": "code",
   "execution_count": 193,
   "metadata": {},
   "outputs": [],
   "source": [
    "rate = 0.001\n",
    "augment_and_preprocess = lambda image: preprocess(data_augment(image))\n",
    "\n",
    "logits = LorenzoNet(\n",
    "        tf.select(\n",
    "            tf.less(keep_prob, tf.constant(0.7)),\n",
    "            tf.map_fn(augment_and_preprocess, x), \n",
    "            tf.map_fn(preprocess, x) ),\n",
    "        n_classes, \n",
    "        keep_prob, \n",
    "        grayscale\n",
    "    )\n",
    "cross_entropy = tf.nn.softmax_cross_entropy_with_logits(labels=one_hot_y, logits=logits)\n",
    "loss_operation = tf.reduce_mean(cross_entropy)\n",
    "optimizer = tf.train.AdamOptimizer(learning_rate = rate)\n",
    "training_operation = optimizer.minimize(loss_operation)"
   ]
  },
  {
   "cell_type": "markdown",
   "metadata": {},
   "source": [
    "#### 4. Model Evaluation"
   ]
  },
  {
   "cell_type": "code",
   "execution_count": 194,
   "metadata": {},
   "outputs": [],
   "source": [
    "correct_prediction = tf.equal(tf.argmax(logits, 1), tf.argmax(one_hot_y, 1))\n",
    "accuracy_operation = tf.reduce_mean(tf.cast(correct_prediction, tf.float32))\n",
    "saver = tf.train.Saver()\n",
    "\n",
    "def evaluate(X_data, y_data):\n",
    "    num_examples = len(X_data)\n",
    "    total_accuracy = 0\n",
    "    sess = tf.get_default_session()\n",
    "    for offset in range(0, num_examples, BATCH_SIZE):\n",
    "        batch_x, batch_y = X_data[offset:offset+BATCH_SIZE], y_data[offset:offset+BATCH_SIZE]\n",
    "        accuracy = sess.run(accuracy_operation, feed_dict={x: batch_x, y: batch_y, keep_prob:1.0})\n",
    "        total_accuracy += (accuracy * len(batch_x))\n",
    "    return total_accuracy / num_examples"
   ]
  },
  {
   "cell_type": "markdown",
   "metadata": {},
   "source": [
    "#### 5. Model Training"
   ]
  },
  {
   "cell_type": "code",
   "execution_count": 195,
   "metadata": {
    "scrolled": true
   },
   "outputs": [
    {
     "name": "stdout",
     "output_type": "stream",
     "text": [
      "Training...\n",
      "\n",
      "\n",
      "Model saved\n"
     ]
    },
    {
     "data": {
      "image/png": "[encoded data removed]",
      "text/plain": [
       "<matplotlib.figure.Figure at 0x7fb163ccacf8>"
      ]
     },
     "metadata": {},
     "output_type": "display_data"
    }
   ],
   "source": [
    "from sklearn.utils import shuffle\n",
    "from tqdm import tqdm_notebook as tqdm\n",
    "import ipywidgets as widgets\n",
    "from IPython.display import display\n",
    "import pandas as pd\n",
    "\n",
    "latest_infos = widgets.Label(value='Initializing...')\n",
    "display(latest_infos)\n",
    "\n",
    "results = pd.DataFrame({\"Epoch\":[], \"Validation Accuracy\":[]})\n",
    "\n",
    "### Train your model here.\n",
    "### Calculate and report the accuracy on the training and validation set.\n",
    "### Once a final model architecture is selected, \n",
    "### the accuracy on the test set should be calculated and reported as well.\n",
    "### Feel free to use as many code cells as needed.\n",
    "with tf.Session() as sess:\n",
    "    sess.run(tf.global_variables_initializer())\n",
    "    num_examples = len(X_train)\n",
    "    \n",
    "    print(\"Training...\")\n",
    "    print()\n",
    "    for i in tqdm(range(EPOCHS)):\n",
    "        X_t, y_t = shuffle(X_train, y_train)\n",
    "        for offset in range(0, num_examples, BATCH_SIZE):\n",
    "            end = offset + BATCH_SIZE\n",
    "            batch_x, batch_y = X_t[offset:end], y_t[offset:end]\n",
    "            sess.run(training_operation, feed_dict={x: batch_x, y: batch_y, keep_prob:0.5})\n",
    "            \n",
    "        validation_accuracy = evaluate(X_valid, y_valid)\n",
    "        latest_infos.value = \"EPOCH {}: Validation accuracy = {:.3f}\".format(i+1, validation_accuracy)\n",
    "        results = results.append({\"Epoch\":i+1, \"Validation Accuracy\":validation_accuracy}, ignore_index=True)\n",
    "        \n",
    "    saver.save(sess, './lorenzonet')\n",
    "    print(\"Model saved\")\n",
    "    \n",
    "results.plot.line(x='Epoch', y='Validation Accuracy');"
   ]
  },
  {
   "cell_type": "markdown",
   "metadata": {},
   "source": [
    "#### 6. Model Assessment"
   ]
  },
  {
   "cell_type": "code",
   "execution_count": 196,
   "metadata": {},
   "outputs": [
    {
     "name": "stdout",
     "output_type": "stream",
     "text": [
      "Accuracy on Training Set:0.996 | Validation set:0.972 | Test Set:0.958\n"
     ]
    }
   ],
   "source": [
    "with tf.Session() as sess:\n",
    "    saver.restore(sess, tf.train.latest_checkpoint('.'))\n",
    "    train_accuracy = evaluate(X_train, y_train)\n",
    "    valid_accuracy = evaluate(X_valid, y_valid)\n",
    "    test_accuracy = evaluate(X_test, y_test)\n",
    "    print(\"Accuracy on Training Set:{:.3f} | Validation set:{:.3f} | Test Set:{:.3f}\"\\\n",
    "          .format(train_accuracy, valid_accuracy, test_accuracy))"
   ]
  },
  {
   "cell_type": "markdown",
   "metadata": {},
   "source": [
    "---\n",
    "\n",
    "## Step 3: Test a Model on New Images\n",
    "\n",
    "To give yourself more insight into how your model is working, download at least five pictures of German traffic signs from the web and use your model to predict the traffic sign type.\n",
    "\n",
    "You may find `signnames.csv` useful as it contains mappings from the class id (integer) to the actual sign name."
   ]
  },
  {
   "cell_type": "markdown",
   "metadata": {},
   "source": [
    "### Load and Output the Images"
   ]
  },
  {
   "cell_type": "code",
   "execution_count": 197,
   "metadata": {
    "scrolled": true
   },
   "outputs": [
    {
     "data": {
      "image/png": "[encoded data removed]",
      "text/plain": [
       "<matplotlib.figure.Figure at 0x7fb15ea9e358>"
      ]
     },
     "metadata": {},
     "output_type": "display_data"
    }
   ],
   "source": [
    "### Load the images and plot them here.\n",
    "### Feel free to use as many code cells as needed.\n",
    "from PIL import Image\n",
    "import requests\n",
    "from io import BytesIO\n",
    "\n",
    "urls = [\n",
    "    \"http://storage.torontosun.com/v1/blogs-prod-photos/5/0/d/a/e/50dae8694fd60fb29cec2d767c897bb0.jpg?stmp=1290376611\",\n",
    "    \"https://encrypted-tbn0.gstatic.com/images?q=tbn:ANd9GcT3d7LZ_jRIzoUmdJafO84du4gdhtGmTnI7Zc4CmVKR8rNZNCY1\",\n",
    "    \"http://media.gettyimages.com/photos/german-traffic-signs-picture-id459381091?s=170667a\",\n",
    "    \"http://media.gettyimages.com/photos/german-traffic-signs-picture-id459381273?s=170667a\",\n",
    "    \"http://media.gettyimages.com/photos/german-traffic-signs-picture-id469763323?s=170667a\",\n",
    "    \"https://image.shutterstock.com/z/stock-photo-german-sign-warning-about-pedestrians-on-the-road-245446468.jpg\",\n",
    "]\n",
    "\n",
    "labels = [\n",
    "    18,  # General caution   \n",
    "    33, # Turn right ahead\n",
    "    3,  # Speed limit (60 km/h)  \n",
    "    14, # STOP\n",
    "    40, # Roundabout mandatory\n",
    "    27, # Pedestrians\n",
    "]\n",
    "\n",
    "def get_image(url):\n",
    "    response = requests.get(url)    \n",
    "    img = Image.open(BytesIO(response.content))\n",
    "    img.thumbnail((32,32), Image.ANTIALIAS)\n",
    "    new_image = Image.new('RGB', (32,32), (255,255,255))\n",
    "    new_image.paste(img, img.getbbox())\n",
    "    return np.array(new_image)\n",
    "\n",
    "fig = plt.figure(figsize=(16,4))\n",
    "for index, img in enumerate([get_image(url) for url in urls]):\n",
    "    fig.add_subplot(1, len(urls), index+1)        \n",
    "    plt.imshow(img)\n",
    "\n",
    "\n",
    "X_new = np.array([get_image(url) for url in urls])\n",
    "y_new = np.array(labels)"
   ]
  },
  {
   "cell_type": "markdown",
   "metadata": {},
   "source": [
    "### Predict the Sign Type for Each Image"
   ]
  },
  {
   "cell_type": "code",
   "execution_count": 198,
   "metadata": {},
   "outputs": [
    {
     "data": {
      "text/plain": [
       "array([18, 33,  3, 10, 42, 27])"
      ]
     },
     "execution_count": 198,
     "metadata": {},
     "output_type": "execute_result"
    }
   ],
   "source": [
    "### Run the predictions here and use the model to output the prediction for each image.\n",
    "### Make sure to pre-process the images with the same pre-processing pipeline used earlier.\n",
    "### Feel free to use as many code cells as needed.\n",
    "with tf.Session() as sess:\n",
    "    saver.restore(sess, tf.train.latest_checkpoint('.'))\n",
    "    predictions = sess.run(tf.argmax(logits,1), feed_dict={x: X_new, y: y_new, keep_prob:1.0})\n",
    "\n",
    "predictions"
   ]
  },
  {
   "cell_type": "markdown",
   "metadata": {},
   "source": [
    "### Analyze Performance"
   ]
  },
  {
   "cell_type": "code",
   "execution_count": 199,
   "metadata": {},
   "outputs": [
    {
     "name": "stdout",
     "output_type": "stream",
     "text": [
      "Accuracy on new images = 0.667\n"
     ]
    }
   ],
   "source": [
    "### Calculate the accuracy for these 5 new images. \n",
    "### For example, if the model predicted 1 out of 5 signs correctly, it's 20% accurate on these new images.\n",
    "with tf.Session() as sess:\n",
    "    saver.restore(sess, tf.train.latest_checkpoint('.'))\n",
    "\n",
    "    new_accuracy = evaluate(X_new, y_new)\n",
    "    print(\"Accuracy on new images = {:.3f}\".format(new_accuracy))"
   ]
  },
  {
   "cell_type": "markdown",
   "metadata": {},
   "source": [
    "### Output Top 5 Softmax Probabilities For Each Image Found on the Web"
   ]
  },
  {
   "cell_type": "markdown",
   "metadata": {},
   "source": [
    "For each of the new images, print out the model's softmax probabilities to show the **certainty** of the model's predictions (limit the output to the top 5 probabilities for each image). [`tf.nn.top_k`](https://www.tensorflow.org/versions/r0.12/api_docs/python/nn.html#top_k) could prove helpful here. "
   ]
  },
  {
   "cell_type": "code",
   "execution_count": 200,
   "metadata": {
    "collapsed": true
   },
   "outputs": [],
   "source": [
    "# Loading category names\n",
    "import csv\n",
    "with open('signnames.csv') as f:\n",
    "    reader = csv.DictReader(f)\n",
    "    categories = {row['ClassId']:row['SignName'] for row in reader}"
   ]
  },
  {
   "cell_type": "code",
   "execution_count": 201,
   "metadata": {},
   "outputs": [
    {
     "data": {
      "image/png": "[encoded data removed]",
      "text/plain": [
       "<matplotlib.figure.Figure at 0x7fb163c59a20>"
      ]
     },
     "metadata": {},
     "output_type": "display_data"
    }
   ],
   "source": [
    "### Print out the top five softmax probabilities for the predictions on the German traffic sign images found on the web. \n",
    "### Feel free to use as many code cells as needed.\n",
    "with tf.Session() as sess:\n",
    "    saver.restore(sess, tf.train.latest_checkpoint('.'))\n",
    "    top_5 = sess.run(tf.nn.top_k(tf.nn.softmax(logits),k=5), feed_dict={x: X_new, y: y_new, keep_prob:1.0})\n",
    "\n",
    "fig = plt.figure(figsize=(16,12))\n",
    "for index in range(0,len(X_new)):\n",
    "    fig.add_subplot(2, len(urls), index+1)\n",
    "    plt.imshow(X_new[index])\n",
    "    fig.add_subplot(2, len(urls), index+1 + len(X_new))\n",
    "    y_pos = np.arange(len(top_5.values[index]))\n",
    "    plt.bar(y_pos,top_5.values[index])\n",
    "    plt.xticks(y_pos,[categories[str(i)][0:20] for i in top_5.indices[index]], rotation=80)    \n",
    "    \n",
    "plt.savefig('internet_images.png')"
   ]
  },
  {
   "cell_type": "markdown",
   "metadata": {},
   "source": [
    "### Project Writeup\n",
    "\n",
    "Once you have completed the code implementation, document your results in a project writeup using this [template](https://github.com/udacity/CarND-Traffic-Sign-Classifier-Project/blob/master/writeup_template.md) as a guide. The writeup can be in a markdown or pdf file. "
   ]
  },
  {
   "cell_type": "markdown",
   "metadata": {},
   "source": [
    "> **Note**: Once you have completed all of the code implementations and successfully answered each question above, you may finalize your work by exporting the iPython Notebook as an HTML document. You can do this by using the menu above and navigating to  \\n\",\n",
    "    \"**File -> Download as -> HTML (.html)**. Include the finished document along with this notebook as your submission."
   ]
  },
  {
   "cell_type": "markdown",
   "metadata": {},
   "source": [
    "---\n",
    "\n",
    "## Step 4 (Optional): Visualize the Neural Network's State with Test Images\n",
    "\n",
    " This Section is not required to complete but acts as an additional excersise for understaning the output of a neural network's weights. While neural networks can be a great learning device they are often referred to as a black box. We can understand what the weights of a neural network look like better by plotting their feature maps. After successfully training your neural network you can see what it's feature maps look like by plotting the output of the network's weight layers in response to a test stimuli image. From these plotted feature maps, it's possible to see what characteristics of an image the network finds interesting. For a sign, maybe the inner network feature maps react with high activation to the sign's boundary outline or to the contrast in the sign's painted symbol.\n",
    "\n",
    " Provided for you below is the function code that allows you to get the visualization output of any tensorflow weight layer you want. The inputs to the function should be a stimuli image, one used during training or a new one you provided, and then the tensorflow variable name that represents the layer's state during the training process, for instance if you wanted to see what the [LeNet lab's](https://classroom.udacity.com/nanodegrees/nd013/parts/fbf77062-5703-404e-b60c-95b78b2f3f9e/modules/6df7ae49-c61c-4bb2-a23e-6527e69209ec/lessons/601ae704-1035-4287-8b11-e2c2716217ad/concepts/d4aca031-508f-4e0b-b493-e7b706120f81) feature maps looked like for it's second convolutional layer you could enter conv2 as the tf_activation variable.\n",
    "\n",
    "For an example of what feature map outputs look like, check out NVIDIA's results in their paper [End-to-End Deep Learning for Self-Driving Cars](https://devblogs.nvidia.com/parallelforall/deep-learning-self-driving-cars/) in the section Visualization of internal CNN State. NVIDIA was able to show that their network's inner weights had high activations to road boundary lines by comparing feature maps from an image with a clear path to one without. Try experimenting with a similar test to show that your trained network's weights are looking for interesting features, whether it's looking at differences in feature maps from images with or without a sign, or even what feature maps look like in a trained network vs a completely untrained one on the same sign image.\n",
    "\n",
    "<figure>\n",
    " <img src=\"visualize_cnn.png\" width=\"380\" alt=\"Combined Image\" />\n",
    " <figcaption>\n",
    " <p></p> \n",
    " <p style=\"text-align: center;\"> Your output should look something like this (above)</p> \n",
    " </figcaption>\n",
    "</figure>\n",
    " <p></p> \n"
   ]
  },
  {
   "cell_type": "code",
   "execution_count": 434,
   "metadata": {
    "collapsed": true
   },
   "outputs": [],
   "source": [
    "### Visualize your network's feature maps here.\n",
    "### Feel free to use as many code cells as needed.\n",
    "\n",
    "# image_input: the test image being fed into the network to produce the feature maps\n",
    "# tf_activation: should be a tf variable name used during your training procedure that represents the calculated state of a specific weight layer\n",
    "# activation_min/max: can be used to view the activation contrast in more detail, by default matplot sets min and max to the actual min and max values of the output\n",
    "# plt_num: used to plot out multiple different weight feature map sets on the same block, just extend the plt number for each new feature map entry\n",
    "\n",
    "def outputFeatureMap(image_input, tf_activation, activation_min=-1, activation_max=-1 ,plt_num=1):\n",
    "    # Here make sure to preprocess your image_input in a way your network expects\n",
    "    # with size, normalization, ect if needed\n",
    "    # image_input =\n",
    "    # Note: x should be the same name as your network's tensorflow data placeholder variable\n",
    "    # If you get an error tf_activation is not defined it may be having trouble accessing the variable from inside a function\n",
    "    activation = tf_activation.eval(session=sess,feed_dict={x : image_input})\n",
    "    featuremaps = activation.shape[3]\n",
    "    plt.figure(plt_num, figsize=(15,15))\n",
    "    for featuremap in range(featuremaps):\n",
    "        plt.subplot(6,8, featuremap+1) # sets the number of feature maps to show on each row and column\n",
    "        plt.title('FeatureMap ' + str(featuremap)) # displays the feature map number\n",
    "        if activation_min != -1 & activation_max != -1:\n",
    "            plt.imshow(activation[0,:,:, featuremap], interpolation=\"nearest\", vmin =activation_min, vmax=activation_max, cmap=\"gray\")\n",
    "        elif activation_max != -1:\n",
    "            plt.imshow(activation[0,:,:, featuremap], interpolation=\"nearest\", vmax=activation_max, cmap=\"gray\")\n",
    "        elif activation_min !=-1:\n",
    "            plt.imshow(activation[0,:,:, featuremap], interpolation=\"nearest\", vmin=activation_min, cmap=\"gray\")\n",
    "        else:\n",
    "            plt.imshow(activation[0,:,:, featuremap], interpolation=\"nearest\", cmap=\"gray\")"
   ]
  },
  {
   "cell_type": "code",
   "execution_count": 519,
   "metadata": {},
   "outputs": [
    {
     "ename": "ValueError",
     "evalue": "Shape of a new variable (conv3) must be fully defined, but instead was <unknown>.",
     "output_type": "error",
     "traceback": [
      "\u001b[0;31m---------------------------------------------------------------------------\u001b[0m",
      "\u001b[0;31mValueError\u001b[0m                                Traceback (most recent call last)",
      "\u001b[0;32m<ipython-input-519-6b20a8ade997>\u001b[0m in \u001b[0;36m<module>\u001b[0;34m()\u001b[0m\n\u001b[1;32m      1\u001b[0m \u001b[0;32mwith\u001b[0m \u001b[0mtf\u001b[0m\u001b[0;34m.\u001b[0m\u001b[0mSession\u001b[0m\u001b[0;34m(\u001b[0m\u001b[0;34m)\u001b[0m \u001b[0;32mas\u001b[0m \u001b[0msess\u001b[0m\u001b[0;34m:\u001b[0m\u001b[0;34m\u001b[0m\u001b[0m\n\u001b[1;32m      2\u001b[0m     \u001b[0msaver\u001b[0m\u001b[0;34m.\u001b[0m\u001b[0mrestore\u001b[0m\u001b[0;34m(\u001b[0m\u001b[0msess\u001b[0m\u001b[0;34m,\u001b[0m \u001b[0mtf\u001b[0m\u001b[0;34m.\u001b[0m\u001b[0mtrain\u001b[0m\u001b[0;34m.\u001b[0m\u001b[0mlatest_checkpoint\u001b[0m\u001b[0;34m(\u001b[0m\u001b[0;34m'.'\u001b[0m\u001b[0;34m)\u001b[0m\u001b[0;34m)\u001b[0m\u001b[0;34m\u001b[0m\u001b[0m\n\u001b[0;32m----> 3\u001b[0;31m     \u001b[0moutputFeatureMap\u001b[0m\u001b[0;34m(\u001b[0m\u001b[0mX_new\u001b[0m\u001b[0;34m[\u001b[0m\u001b[0;36m0\u001b[0m\u001b[0;34m]\u001b[0m\u001b[0;34m,\u001b[0m \u001b[0mtf\u001b[0m\u001b[0;34m.\u001b[0m\u001b[0mget_variable\u001b[0m\u001b[0;34m(\u001b[0m\u001b[0;34m\"conv3\"\u001b[0m\u001b[0;34m)\u001b[0m\u001b[0;34m)\u001b[0m\u001b[0;34m\u001b[0m\u001b[0m\n\u001b[0m",
      "\u001b[0;32m~/miniconda3/envs/carnd-term1/lib/python3.5/site-packages/tensorflow/python/ops/variable_scope.py\u001b[0m in \u001b[0;36mget_variable\u001b[0;34m(name, shape, dtype, initializer, regularizer, trainable, collections, caching_device, partitioner, validate_shape, custom_getter)\u001b[0m\n\u001b[1;32m   1022\u001b[0m       \u001b[0mcollections\u001b[0m\u001b[0;34m=\u001b[0m\u001b[0mcollections\u001b[0m\u001b[0;34m,\u001b[0m \u001b[0mcaching_device\u001b[0m\u001b[0;34m=\u001b[0m\u001b[0mcaching_device\u001b[0m\u001b[0;34m,\u001b[0m\u001b[0;34m\u001b[0m\u001b[0m\n\u001b[1;32m   1023\u001b[0m       \u001b[0mpartitioner\u001b[0m\u001b[0;34m=\u001b[0m\u001b[0mpartitioner\u001b[0m\u001b[0;34m,\u001b[0m \u001b[0mvalidate_shape\u001b[0m\u001b[0;34m=\u001b[0m\u001b[0mvalidate_shape\u001b[0m\u001b[0;34m,\u001b[0m\u001b[0;34m\u001b[0m\u001b[0m\n\u001b[0;32m-> 1024\u001b[0;31m       custom_getter=custom_getter)\n\u001b[0m\u001b[1;32m   1025\u001b[0m \u001b[0;34m\u001b[0m\u001b[0m\n\u001b[1;32m   1026\u001b[0m \u001b[0;34m\u001b[0m\u001b[0m\n",
      "\u001b[0;32m~/miniconda3/envs/carnd-term1/lib/python3.5/site-packages/tensorflow/python/ops/variable_scope.py\u001b[0m in \u001b[0;36mget_variable\u001b[0;34m(self, var_store, name, shape, dtype, initializer, regularizer, trainable, collections, caching_device, partitioner, validate_shape, custom_getter)\u001b[0m\n\u001b[1;32m    848\u001b[0m           \u001b[0mcollections\u001b[0m\u001b[0;34m=\u001b[0m\u001b[0mcollections\u001b[0m\u001b[0;34m,\u001b[0m \u001b[0mcaching_device\u001b[0m\u001b[0;34m=\u001b[0m\u001b[0mcaching_device\u001b[0m\u001b[0;34m,\u001b[0m\u001b[0;34m\u001b[0m\u001b[0m\n\u001b[1;32m    849\u001b[0m           \u001b[0mpartitioner\u001b[0m\u001b[0;34m=\u001b[0m\u001b[0mpartitioner\u001b[0m\u001b[0;34m,\u001b[0m \u001b[0mvalidate_shape\u001b[0m\u001b[0;34m=\u001b[0m\u001b[0mvalidate_shape\u001b[0m\u001b[0;34m,\u001b[0m\u001b[0;34m\u001b[0m\u001b[0m\n\u001b[0;32m--> 850\u001b[0;31m           custom_getter=custom_getter)\n\u001b[0m\u001b[1;32m    851\u001b[0m \u001b[0;34m\u001b[0m\u001b[0m\n\u001b[1;32m    852\u001b[0m   def _get_partitioned_variable(self,\n",
      "\u001b[0;32m~/miniconda3/envs/carnd-term1/lib/python3.5/site-packages/tensorflow/python/ops/variable_scope.py\u001b[0m in \u001b[0;36mget_variable\u001b[0;34m(self, name, shape, dtype, initializer, regularizer, reuse, trainable, collections, caching_device, partitioner, validate_shape, custom_getter)\u001b[0m\n\u001b[1;32m    344\u001b[0m           \u001b[0mreuse\u001b[0m\u001b[0;34m=\u001b[0m\u001b[0mreuse\u001b[0m\u001b[0;34m,\u001b[0m \u001b[0mtrainable\u001b[0m\u001b[0;34m=\u001b[0m\u001b[0mtrainable\u001b[0m\u001b[0;34m,\u001b[0m \u001b[0mcollections\u001b[0m\u001b[0;34m=\u001b[0m\u001b[0mcollections\u001b[0m\u001b[0;34m,\u001b[0m\u001b[0;34m\u001b[0m\u001b[0m\n\u001b[1;32m    345\u001b[0m           \u001b[0mcaching_device\u001b[0m\u001b[0;34m=\u001b[0m\u001b[0mcaching_device\u001b[0m\u001b[0;34m,\u001b[0m \u001b[0mpartitioner\u001b[0m\u001b[0;34m=\u001b[0m\u001b[0mpartitioner\u001b[0m\u001b[0;34m,\u001b[0m\u001b[0;34m\u001b[0m\u001b[0m\n\u001b[0;32m--> 346\u001b[0;31m           validate_shape=validate_shape)\n\u001b[0m\u001b[1;32m    347\u001b[0m \u001b[0;34m\u001b[0m\u001b[0m\n\u001b[1;32m    348\u001b[0m   def _get_partitioned_variable(\n",
      "\u001b[0;32m~/miniconda3/envs/carnd-term1/lib/python3.5/site-packages/tensorflow/python/ops/variable_scope.py\u001b[0m in \u001b[0;36m_true_getter\u001b[0;34m(name, shape, dtype, initializer, regularizer, reuse, trainable, collections, caching_device, partitioner, validate_shape)\u001b[0m\n\u001b[1;32m    329\u001b[0m           \u001b[0minitializer\u001b[0m\u001b[0;34m=\u001b[0m\u001b[0minitializer\u001b[0m\u001b[0;34m,\u001b[0m \u001b[0mregularizer\u001b[0m\u001b[0;34m=\u001b[0m\u001b[0mregularizer\u001b[0m\u001b[0;34m,\u001b[0m \u001b[0mreuse\u001b[0m\u001b[0;34m=\u001b[0m\u001b[0mreuse\u001b[0m\u001b[0;34m,\u001b[0m\u001b[0;34m\u001b[0m\u001b[0m\n\u001b[1;32m    330\u001b[0m           \u001b[0mtrainable\u001b[0m\u001b[0;34m=\u001b[0m\u001b[0mtrainable\u001b[0m\u001b[0;34m,\u001b[0m \u001b[0mcollections\u001b[0m\u001b[0;34m=\u001b[0m\u001b[0mcollections\u001b[0m\u001b[0;34m,\u001b[0m\u001b[0;34m\u001b[0m\u001b[0m\n\u001b[0;32m--> 331\u001b[0;31m           caching_device=caching_device, validate_shape=validate_shape)\n\u001b[0m\u001b[1;32m    332\u001b[0m \u001b[0;34m\u001b[0m\u001b[0m\n\u001b[1;32m    333\u001b[0m     \u001b[0;32mif\u001b[0m \u001b[0mcustom_getter\u001b[0m \u001b[0;32mis\u001b[0m \u001b[0;32mnot\u001b[0m \u001b[0;32mNone\u001b[0m\u001b[0;34m:\u001b[0m\u001b[0;34m\u001b[0m\u001b[0m\n",
      "\u001b[0;32m~/miniconda3/envs/carnd-term1/lib/python3.5/site-packages/tensorflow/python/ops/variable_scope.py\u001b[0m in \u001b[0;36m_get_single_variable\u001b[0;34m(self, name, shape, dtype, initializer, regularizer, partition_info, reuse, trainable, collections, caching_device, validate_shape)\u001b[0m\n\u001b[1;32m    651\u001b[0m     \u001b[0;32mif\u001b[0m \u001b[0;32mnot\u001b[0m \u001b[0mshape\u001b[0m\u001b[0;34m.\u001b[0m\u001b[0mis_fully_defined\u001b[0m\u001b[0;34m(\u001b[0m\u001b[0;34m)\u001b[0m \u001b[0;32mand\u001b[0m \u001b[0;32mnot\u001b[0m \u001b[0minitializing_from_value\u001b[0m\u001b[0;34m:\u001b[0m\u001b[0;34m\u001b[0m\u001b[0m\n\u001b[1;32m    652\u001b[0m       raise ValueError(\"Shape of a new variable (%s) must be fully defined, \"\n\u001b[0;32m--> 653\u001b[0;31m                        \"but instead was %s.\" % (name, shape))\n\u001b[0m\u001b[1;32m    654\u001b[0m \u001b[0;34m\u001b[0m\u001b[0m\n\u001b[1;32m    655\u001b[0m     \u001b[0;31m# Create the tensor to initialize the variable.\u001b[0m\u001b[0;34m\u001b[0m\u001b[0;34m\u001b[0m\u001b[0m\n",
      "\u001b[0;31mValueError\u001b[0m: Shape of a new variable (conv3) must be fully defined, but instead was <unknown>."
     ]
    }
   ],
   "source": [
    "with tf.Session() as sess:\n",
    "    saver.restore(sess, tf.train.latest_checkpoint('.'))\n",
    "    outputFeatureMap(X_new[0], tf.get_variable(\"conv3\"))"
   ]
  },
  {
   "cell_type": "code",
   "execution_count": 521,
   "metadata": {},
   "outputs": [
    {
     "data": {
      "text/plain": [
       "['Variable:0',\n",
       " 'Variable_1:0',\n",
       " 'Variable_2:0',\n",
       " 'Variable_3:0',\n",
       " 'Variable_4:0',\n",
       " 'Variable_5:0',\n",
       " 'Variable_6:0',\n",
       " 'Variable_7:0',\n",
       " 'Variable_8:0',\n",
       " 'Variable_9:0',\n",
       " 'beta1_power:0',\n",
       " 'beta2_power:0',\n",
       " 'Variable/Adam:0',\n",
       " 'Variable/Adam_1:0',\n",
       " 'Variable_1/Adam:0',\n",
       " 'Variable_1/Adam_1:0',\n",
       " 'Variable_2/Adam:0',\n",
       " 'Variable_2/Adam_1:0',\n",
       " 'Variable_3/Adam:0',\n",
       " 'Variable_3/Adam_1:0',\n",
       " 'Variable_4/Adam:0',\n",
       " 'Variable_4/Adam_1:0',\n",
       " 'Variable_5/Adam:0',\n",
       " 'Variable_5/Adam_1:0',\n",
       " 'Variable_6/Adam:0',\n",
       " 'Variable_6/Adam_1:0',\n",
       " 'Variable_7/Adam:0',\n",
       " 'Variable_7/Adam_1:0',\n",
       " 'Variable_8/Adam:0',\n",
       " 'Variable_8/Adam_1:0',\n",
       " 'Variable_9/Adam:0',\n",
       " 'Variable_9/Adam_1:0',\n",
       " 'Variable_10:0',\n",
       " 'Variable_11:0',\n",
       " 'Variable_12:0',\n",
       " 'Variable_13:0',\n",
       " 'Variable_14:0',\n",
       " 'Variable_15:0',\n",
       " 'Variable_16:0',\n",
       " 'Variable_17:0',\n",
       " 'Variable_18:0',\n",
       " 'Variable_19:0',\n",
       " 'beta1_power_1:0',\n",
       " 'beta2_power_1:0',\n",
       " 'Variable_10/Adam:0',\n",
       " 'Variable_10/Adam_1:0',\n",
       " 'Variable_11/Adam:0',\n",
       " 'Variable_11/Adam_1:0',\n",
       " 'Variable_12/Adam:0',\n",
       " 'Variable_12/Adam_1:0',\n",
       " 'Variable_13/Adam:0',\n",
       " 'Variable_13/Adam_1:0',\n",
       " 'Variable_14/Adam:0',\n",
       " 'Variable_14/Adam_1:0',\n",
       " 'Variable_15/Adam:0',\n",
       " 'Variable_15/Adam_1:0',\n",
       " 'Variable_16/Adam:0',\n",
       " 'Variable_16/Adam_1:0',\n",
       " 'Variable_17/Adam:0',\n",
       " 'Variable_17/Adam_1:0',\n",
       " 'Variable_18/Adam:0',\n",
       " 'Variable_18/Adam_1:0',\n",
       " 'Variable_19/Adam:0',\n",
       " 'Variable_19/Adam_1:0',\n",
       " 'Variable_20:0',\n",
       " 'Variable_21:0',\n",
       " 'Variable_22:0',\n",
       " 'Variable_23:0',\n",
       " 'Variable_24:0',\n",
       " 'Variable_25:0',\n",
       " 'Variable_26:0',\n",
       " 'Variable_27:0',\n",
       " 'Variable_28:0',\n",
       " 'Variable_29:0',\n",
       " 'Variable_30:0',\n",
       " 'Variable_31:0',\n",
       " 'Variable_32:0',\n",
       " 'Variable_33:0',\n",
       " 'Variable_34:0',\n",
       " 'Variable_35:0',\n",
       " 'Variable_36:0',\n",
       " 'Variable_37:0',\n",
       " 'Variable_38:0',\n",
       " 'Variable_39:0',\n",
       " 'beta1_power_2:0',\n",
       " 'beta2_power_2:0',\n",
       " 'Variable_10/Adam_2:0',\n",
       " 'Variable_10/Adam_3:0',\n",
       " 'Variable_11/Adam_2:0',\n",
       " 'Variable_11/Adam_3:0',\n",
       " 'Variable_12/Adam_2:0',\n",
       " 'Variable_12/Adam_3:0',\n",
       " 'Variable_13/Adam_2:0',\n",
       " 'Variable_13/Adam_3:0',\n",
       " 'Variable_14/Adam_2:0',\n",
       " 'Variable_14/Adam_3:0',\n",
       " 'Variable_15/Adam_2:0',\n",
       " 'Variable_15/Adam_3:0',\n",
       " 'Variable_16/Adam_2:0',\n",
       " 'Variable_16/Adam_3:0',\n",
       " 'Variable_17/Adam_2:0',\n",
       " 'Variable_17/Adam_3:0',\n",
       " 'Variable_18/Adam_2:0',\n",
       " 'Variable_18/Adam_3:0',\n",
       " 'Variable_19/Adam_2:0',\n",
       " 'Variable_19/Adam_3:0',\n",
       " 'Variable_40:0',\n",
       " 'Variable_41:0',\n",
       " 'Variable_42:0',\n",
       " 'Variable_43:0',\n",
       " 'Variable_44:0',\n",
       " 'Variable_45:0',\n",
       " 'Variable_46:0',\n",
       " 'Variable_47:0',\n",
       " 'Variable_48:0',\n",
       " 'Variable_49:0',\n",
       " 'beta1_power_3:0',\n",
       " 'beta2_power_3:0',\n",
       " 'Variable_10/Adam_4:0',\n",
       " 'Variable_10/Adam_5:0',\n",
       " 'Variable_11/Adam_4:0',\n",
       " 'Variable_11/Adam_5:0',\n",
       " 'Variable_12/Adam_4:0',\n",
       " 'Variable_12/Adam_5:0',\n",
       " 'Variable_13/Adam_4:0',\n",
       " 'Variable_13/Adam_5:0',\n",
       " 'Variable_14/Adam_4:0',\n",
       " 'Variable_14/Adam_5:0',\n",
       " 'Variable_15/Adam_4:0',\n",
       " 'Variable_15/Adam_5:0',\n",
       " 'Variable_16/Adam_4:0',\n",
       " 'Variable_16/Adam_5:0',\n",
       " 'Variable_17/Adam_4:0',\n",
       " 'Variable_17/Adam_5:0',\n",
       " 'Variable_18/Adam_4:0',\n",
       " 'Variable_18/Adam_5:0',\n",
       " 'Variable_19/Adam_4:0',\n",
       " 'Variable_19/Adam_5:0',\n",
       " 'Variable_50:0',\n",
       " 'Variable_51:0',\n",
       " 'Variable_52:0',\n",
       " 'Variable_53:0',\n",
       " 'Variable_54:0',\n",
       " 'Variable_55:0',\n",
       " 'Variable_56:0',\n",
       " 'Variable_57:0',\n",
       " 'Variable_58:0',\n",
       " 'Variable_59:0',\n",
       " 'Variable_60:0',\n",
       " 'Variable_61:0',\n",
       " 'Variable_62:0',\n",
       " 'Variable_63:0',\n",
       " 'Variable_64:0',\n",
       " 'Variable_65:0',\n",
       " 'Variable_66:0',\n",
       " 'Variable_67:0',\n",
       " 'Variable_68:0',\n",
       " 'Variable_69:0',\n",
       " 'beta1_power_4:0',\n",
       " 'beta2_power_4:0',\n",
       " 'Variable_10/Adam_6:0',\n",
       " 'Variable_10/Adam_7:0',\n",
       " 'Variable_11/Adam_6:0',\n",
       " 'Variable_11/Adam_7:0',\n",
       " 'Variable_12/Adam_6:0',\n",
       " 'Variable_12/Adam_7:0',\n",
       " 'Variable_13/Adam_6:0',\n",
       " 'Variable_13/Adam_7:0',\n",
       " 'Variable_14/Adam_6:0',\n",
       " 'Variable_14/Adam_7:0',\n",
       " 'Variable_15/Adam_6:0',\n",
       " 'Variable_15/Adam_7:0',\n",
       " 'Variable_16/Adam_6:0',\n",
       " 'Variable_16/Adam_7:0',\n",
       " 'Variable_17/Adam_6:0',\n",
       " 'Variable_17/Adam_7:0',\n",
       " 'Variable_18/Adam_6:0',\n",
       " 'Variable_18/Adam_7:0',\n",
       " 'Variable_19/Adam_6:0',\n",
       " 'Variable_19/Adam_7:0',\n",
       " 'Variable_70:0',\n",
       " 'Variable_71:0',\n",
       " 'Variable_72:0',\n",
       " 'Variable_73:0',\n",
       " 'Variable_74:0',\n",
       " 'Variable_75:0',\n",
       " 'Variable_76:0',\n",
       " 'Variable_77:0',\n",
       " 'Variable_78:0',\n",
       " 'Variable_79:0',\n",
       " 'Variable_80:0',\n",
       " 'Variable_81:0',\n",
       " 'Variable_82:0',\n",
       " 'Variable_83:0',\n",
       " 'Variable_84:0',\n",
       " 'Variable_85:0',\n",
       " 'beta1_power_5:0',\n",
       " 'beta2_power_5:0',\n",
       " 'Variable_10/Adam_8:0',\n",
       " 'Variable_10/Adam_9:0',\n",
       " 'Variable_11/Adam_8:0',\n",
       " 'Variable_11/Adam_9:0',\n",
       " 'Variable_12/Adam_8:0',\n",
       " 'Variable_12/Adam_9:0',\n",
       " 'Variable_13/Adam_8:0',\n",
       " 'Variable_13/Adam_9:0',\n",
       " 'Variable_14/Adam_8:0',\n",
       " 'Variable_14/Adam_9:0',\n",
       " 'Variable_15/Adam_8:0',\n",
       " 'Variable_15/Adam_9:0',\n",
       " 'Variable_16/Adam_8:0',\n",
       " 'Variable_16/Adam_9:0',\n",
       " 'Variable_17/Adam_8:0',\n",
       " 'Variable_17/Adam_9:0',\n",
       " 'Variable_18/Adam_8:0',\n",
       " 'Variable_18/Adam_9:0',\n",
       " 'Variable_19/Adam_8:0',\n",
       " 'Variable_19/Adam_9:0',\n",
       " 'Variable_86:0',\n",
       " 'Variable_87:0',\n",
       " 'Variable_88:0',\n",
       " 'Variable_89:0',\n",
       " 'Variable_90:0',\n",
       " 'Variable_91:0',\n",
       " 'Variable_92:0',\n",
       " 'Variable_93:0',\n",
       " 'Variable_94:0',\n",
       " 'Variable_95:0',\n",
       " 'Variable_96:0',\n",
       " 'Variable_97:0',\n",
       " 'Variable_98:0',\n",
       " 'Variable_99:0',\n",
       " 'Variable_100:0',\n",
       " 'Variable_101:0',\n",
       " 'Variable_102:0',\n",
       " 'Variable_103:0',\n",
       " 'Variable_104:0',\n",
       " 'Variable_105:0',\n",
       " 'beta1_power_6:0',\n",
       " 'beta2_power_6:0',\n",
       " 'Variable_10/Adam_10:0',\n",
       " 'Variable_10/Adam_11:0',\n",
       " 'Variable_11/Adam_10:0',\n",
       " 'Variable_11/Adam_11:0',\n",
       " 'Variable_12/Adam_10:0',\n",
       " 'Variable_12/Adam_11:0',\n",
       " 'Variable_13/Adam_10:0',\n",
       " 'Variable_13/Adam_11:0',\n",
       " 'Variable_14/Adam_10:0',\n",
       " 'Variable_14/Adam_11:0',\n",
       " 'Variable_15/Adam_10:0',\n",
       " 'Variable_15/Adam_11:0',\n",
       " 'Variable_16/Adam_10:0',\n",
       " 'Variable_16/Adam_11:0',\n",
       " 'Variable_17/Adam_10:0',\n",
       " 'Variable_17/Adam_11:0',\n",
       " 'Variable_18/Adam_10:0',\n",
       " 'Variable_18/Adam_11:0',\n",
       " 'Variable_19/Adam_10:0',\n",
       " 'Variable_19/Adam_11:0',\n",
       " 'Variable_106:0',\n",
       " 'Variable_107:0',\n",
       " 'Variable_108:0',\n",
       " 'Variable_109:0',\n",
       " 'Variable_110:0',\n",
       " 'Variable_111:0',\n",
       " 'Variable_112:0',\n",
       " 'Variable_113:0',\n",
       " 'Variable_114:0',\n",
       " 'Variable_115:0',\n",
       " 'Variable_116:0',\n",
       " 'Variable_117:0',\n",
       " 'Variable_118:0',\n",
       " 'Variable_119:0',\n",
       " 'Variable_120:0',\n",
       " 'Variable_121:0',\n",
       " 'Variable_122:0',\n",
       " 'Variable_123:0',\n",
       " 'Variable_124:0',\n",
       " 'Variable_125:0',\n",
       " 'beta1_power_7:0',\n",
       " 'beta2_power_7:0',\n",
       " 'Variable_10/Adam_12:0',\n",
       " 'Variable_10/Adam_13:0',\n",
       " 'Variable_11/Adam_12:0',\n",
       " 'Variable_11/Adam_13:0',\n",
       " 'Variable_12/Adam_12:0',\n",
       " 'Variable_12/Adam_13:0',\n",
       " 'Variable_13/Adam_12:0',\n",
       " 'Variable_13/Adam_13:0',\n",
       " 'Variable_14/Adam_12:0',\n",
       " 'Variable_14/Adam_13:0',\n",
       " 'Variable_15/Adam_12:0',\n",
       " 'Variable_15/Adam_13:0',\n",
       " 'Variable_16/Adam_12:0',\n",
       " 'Variable_16/Adam_13:0',\n",
       " 'Variable_17/Adam_12:0',\n",
       " 'Variable_17/Adam_13:0',\n",
       " 'Variable_18/Adam_12:0',\n",
       " 'Variable_18/Adam_13:0',\n",
       " 'Variable_19/Adam_12:0',\n",
       " 'Variable_19/Adam_13:0',\n",
       " 'Variable_126:0',\n",
       " 'Variable_127:0',\n",
       " 'Variable_128:0',\n",
       " 'Variable_129:0',\n",
       " 'Variable_130:0',\n",
       " 'Variable_131:0',\n",
       " 'Variable_132:0',\n",
       " 'Variable_133:0',\n",
       " 'Variable_134:0',\n",
       " 'Variable_135:0',\n",
       " 'Variable_136:0',\n",
       " 'Variable_137:0',\n",
       " 'Variable_138:0',\n",
       " 'Variable_139:0',\n",
       " 'Variable_140:0',\n",
       " 'Variable_141:0',\n",
       " 'Variable_142:0',\n",
       " 'Variable_143:0',\n",
       " 'Variable_144:0',\n",
       " 'Variable_145:0',\n",
       " 'Variable_146:0',\n",
       " 'Variable_147:0',\n",
       " 'Variable_148:0',\n",
       " 'Variable_149:0',\n",
       " 'Variable_150:0',\n",
       " 'Variable_151:0',\n",
       " 'Variable_152:0',\n",
       " 'Variable_153:0',\n",
       " 'Variable_154:0',\n",
       " 'Variable_155:0',\n",
       " 'beta1_power_8:0',\n",
       " 'beta2_power_8:0',\n",
       " 'Variable_10/Adam_14:0',\n",
       " 'Variable_10/Adam_15:0',\n",
       " 'Variable_11/Adam_14:0',\n",
       " 'Variable_11/Adam_15:0',\n",
       " 'Variable_12/Adam_14:0',\n",
       " 'Variable_12/Adam_15:0',\n",
       " 'Variable_13/Adam_14:0',\n",
       " 'Variable_13/Adam_15:0',\n",
       " 'Variable_14/Adam_14:0',\n",
       " 'Variable_14/Adam_15:0',\n",
       " 'Variable_15/Adam_14:0',\n",
       " 'Variable_15/Adam_15:0',\n",
       " 'Variable_16/Adam_14:0',\n",
       " 'Variable_16/Adam_15:0',\n",
       " 'Variable_17/Adam_14:0',\n",
       " 'Variable_17/Adam_15:0',\n",
       " 'Variable_18/Adam_14:0',\n",
       " 'Variable_18/Adam_15:0',\n",
       " 'Variable_19/Adam_14:0',\n",
       " 'Variable_19/Adam_15:0',\n",
       " 'Variable_156:0',\n",
       " 'Variable_157:0',\n",
       " 'Variable_158:0',\n",
       " 'Variable_159:0',\n",
       " 'Variable_160:0',\n",
       " 'Variable_161:0',\n",
       " 'Variable_162:0',\n",
       " 'Variable_163:0',\n",
       " 'Variable_164:0',\n",
       " 'Variable_165:0',\n",
       " 'Variable_166:0',\n",
       " 'Variable_167:0',\n",
       " 'Variable_168:0',\n",
       " 'Variable_169:0',\n",
       " 'Variable_170:0',\n",
       " 'Variable_171:0',\n",
       " 'Variable_172:0',\n",
       " 'Variable_173:0',\n",
       " 'Variable_174:0',\n",
       " 'Variable_175:0',\n",
       " 'beta1_power_9:0',\n",
       " 'beta2_power_9:0',\n",
       " 'Variable_10/Adam_16:0',\n",
       " 'Variable_10/Adam_17:0',\n",
       " 'Variable_11/Adam_16:0',\n",
       " 'Variable_11/Adam_17:0',\n",
       " 'Variable_12/Adam_16:0',\n",
       " 'Variable_12/Adam_17:0',\n",
       " 'Variable_13/Adam_16:0',\n",
       " 'Variable_13/Adam_17:0',\n",
       " 'Variable_14/Adam_16:0',\n",
       " 'Variable_14/Adam_17:0',\n",
       " 'Variable_15/Adam_16:0',\n",
       " 'Variable_15/Adam_17:0',\n",
       " 'Variable_16/Adam_16:0',\n",
       " 'Variable_16/Adam_17:0',\n",
       " 'Variable_17/Adam_16:0',\n",
       " 'Variable_17/Adam_17:0',\n",
       " 'Variable_18/Adam_16:0',\n",
       " 'Variable_18/Adam_17:0',\n",
       " 'Variable_19/Adam_16:0',\n",
       " 'Variable_19/Adam_17:0',\n",
       " 'Variable_176:0',\n",
       " 'Variable_177:0',\n",
       " 'Variable_178:0',\n",
       " 'Variable_179:0',\n",
       " 'Variable_180:0',\n",
       " 'Variable_181:0',\n",
       " 'Variable_182:0',\n",
       " 'Variable_183:0',\n",
       " 'Variable_184:0',\n",
       " 'Variable_185:0',\n",
       " 'Variable_186:0',\n",
       " 'Variable_187:0',\n",
       " 'Variable_188:0',\n",
       " 'Variable_189:0',\n",
       " 'Variable_190:0',\n",
       " 'Variable_191:0',\n",
       " 'Variable_192:0',\n",
       " 'Variable_193:0',\n",
       " 'Variable_194:0',\n",
       " 'Variable_195:0',\n",
       " 'beta1_power_10:0',\n",
       " 'beta2_power_10:0',\n",
       " 'Variable_186/Adam:0',\n",
       " 'Variable_186/Adam_1:0',\n",
       " 'Variable_187/Adam:0',\n",
       " 'Variable_187/Adam_1:0',\n",
       " 'Variable_188/Adam:0',\n",
       " 'Variable_188/Adam_1:0',\n",
       " 'Variable_189/Adam:0',\n",
       " 'Variable_189/Adam_1:0',\n",
       " 'Variable_190/Adam:0',\n",
       " 'Variable_190/Adam_1:0',\n",
       " 'Variable_191/Adam:0',\n",
       " 'Variable_191/Adam_1:0',\n",
       " 'Variable_192/Adam:0',\n",
       " 'Variable_192/Adam_1:0',\n",
       " 'Variable_193/Adam:0',\n",
       " 'Variable_193/Adam_1:0',\n",
       " 'Variable_194/Adam:0',\n",
       " 'Variable_194/Adam_1:0',\n",
       " 'Variable_195/Adam:0',\n",
       " 'Variable_195/Adam_1:0',\n",
       " 'Variable_196:0',\n",
       " 'Variable_197:0',\n",
       " 'Variable_198:0',\n",
       " 'Variable_199:0',\n",
       " 'Variable_200:0',\n",
       " 'Variable_201:0',\n",
       " 'Variable_202:0',\n",
       " 'Variable_203:0',\n",
       " 'Variable_204:0',\n",
       " 'Variable_205:0',\n",
       " 'beta1_power_11:0',\n",
       " 'beta2_power_11:0',\n",
       " 'Variable_196/Adam:0',\n",
       " 'Variable_196/Adam_1:0',\n",
       " 'Variable_197/Adam:0',\n",
       " 'Variable_197/Adam_1:0',\n",
       " 'Variable_198/Adam:0',\n",
       " 'Variable_198/Adam_1:0',\n",
       " 'Variable_199/Adam:0',\n",
       " 'Variable_199/Adam_1:0',\n",
       " 'Variable_200/Adam:0',\n",
       " 'Variable_200/Adam_1:0',\n",
       " 'Variable_201/Adam:0',\n",
       " 'Variable_201/Adam_1:0',\n",
       " 'Variable_202/Adam:0',\n",
       " 'Variable_202/Adam_1:0',\n",
       " 'Variable_203/Adam:0',\n",
       " 'Variable_203/Adam_1:0',\n",
       " 'Variable_204/Adam:0',\n",
       " 'Variable_204/Adam_1:0',\n",
       " 'Variable_205/Adam:0',\n",
       " 'Variable_205/Adam_1:0',\n",
       " 'Variable_206:0',\n",
       " 'Variable_207:0',\n",
       " 'Variable_208:0',\n",
       " 'Variable_209:0',\n",
       " 'Variable_210:0',\n",
       " 'Variable_211:0',\n",
       " 'Variable_212:0',\n",
       " 'Variable_213:0',\n",
       " 'Variable_214:0',\n",
       " 'Variable_215:0',\n",
       " 'beta1_power_12:0',\n",
       " 'beta2_power_12:0',\n",
       " 'Variable_206/Adam:0',\n",
       " 'Variable_206/Adam_1:0',\n",
       " 'Variable_207/Adam:0',\n",
       " 'Variable_207/Adam_1:0',\n",
       " 'Variable_208/Adam:0',\n",
       " 'Variable_208/Adam_1:0',\n",
       " 'Variable_209/Adam:0',\n",
       " 'Variable_209/Adam_1:0',\n",
       " 'Variable_210/Adam:0',\n",
       " 'Variable_210/Adam_1:0',\n",
       " 'Variable_211/Adam:0',\n",
       " 'Variable_211/Adam_1:0',\n",
       " 'Variable_212/Adam:0',\n",
       " 'Variable_212/Adam_1:0',\n",
       " 'Variable_213/Adam:0',\n",
       " 'Variable_213/Adam_1:0',\n",
       " 'Variable_214/Adam:0',\n",
       " 'Variable_214/Adam_1:0',\n",
       " 'Variable_215/Adam:0',\n",
       " 'Variable_215/Adam_1:0',\n",
       " 'Variable_216:0',\n",
       " 'Variable_217:0',\n",
       " 'Variable_218:0',\n",
       " 'Variable_219:0',\n",
       " 'Variable_220:0',\n",
       " 'Variable_221:0',\n",
       " 'Variable_222:0',\n",
       " 'Variable_223:0',\n",
       " 'Variable_224:0',\n",
       " 'Variable_225:0',\n",
       " 'beta1_power_13:0',\n",
       " 'beta2_power_13:0',\n",
       " 'Variable_216/Adam:0',\n",
       " 'Variable_216/Adam_1:0',\n",
       " 'Variable_217/Adam:0',\n",
       " 'Variable_217/Adam_1:0',\n",
       " 'Variable_218/Adam:0',\n",
       " 'Variable_218/Adam_1:0',\n",
       " 'Variable_219/Adam:0',\n",
       " 'Variable_219/Adam_1:0',\n",
       " 'Variable_220/Adam:0',\n",
       " 'Variable_220/Adam_1:0',\n",
       " 'Variable_221/Adam:0',\n",
       " 'Variable_221/Adam_1:0',\n",
       " 'Variable_222/Adam:0',\n",
       " 'Variable_222/Adam_1:0',\n",
       " 'Variable_223/Adam:0',\n",
       " 'Variable_223/Adam_1:0',\n",
       " 'Variable_224/Adam:0',\n",
       " 'Variable_224/Adam_1:0',\n",
       " 'Variable_225/Adam:0',\n",
       " 'Variable_225/Adam_1:0',\n",
       " 'Variable_226:0',\n",
       " 'Variable_227:0',\n",
       " 'Variable_228:0',\n",
       " 'Variable_229:0',\n",
       " 'Variable_230:0',\n",
       " 'Variable_231:0',\n",
       " 'Variable_232:0',\n",
       " 'Variable_233:0',\n",
       " 'Variable_234:0',\n",
       " 'Variable_235:0',\n",
       " 'beta1_power_14:0',\n",
       " 'beta2_power_14:0',\n",
       " 'Variable_226/Adam:0',\n",
       " 'Variable_226/Adam_1:0',\n",
       " 'Variable_227/Adam:0',\n",
       " 'Variable_227/Adam_1:0',\n",
       " 'Variable_228/Adam:0',\n",
       " 'Variable_228/Adam_1:0',\n",
       " 'Variable_229/Adam:0',\n",
       " 'Variable_229/Adam_1:0',\n",
       " 'Variable_230/Adam:0',\n",
       " 'Variable_230/Adam_1:0',\n",
       " 'Variable_231/Adam:0',\n",
       " 'Variable_231/Adam_1:0',\n",
       " 'Variable_232/Adam:0',\n",
       " 'Variable_232/Adam_1:0',\n",
       " 'Variable_233/Adam:0',\n",
       " 'Variable_233/Adam_1:0',\n",
       " 'Variable_234/Adam:0',\n",
       " 'Variable_234/Adam_1:0',\n",
       " 'Variable_235/Adam:0',\n",
       " 'Variable_235/Adam_1:0',\n",
       " 'Variable_236:0',\n",
       " 'Variable_237:0',\n",
       " 'Variable_238:0',\n",
       " 'Variable_239:0',\n",
       " 'Variable_240:0',\n",
       " 'Variable_241:0',\n",
       " 'Variable_242:0',\n",
       " 'Variable_243:0',\n",
       " 'Variable_244:0',\n",
       " 'Variable_245:0',\n",
       " 'beta1_power_15:0',\n",
       " 'beta2_power_15:0',\n",
       " 'Variable_236/Adam:0',\n",
       " 'Variable_236/Adam_1:0',\n",
       " 'Variable_237/Adam:0',\n",
       " 'Variable_237/Adam_1:0',\n",
       " 'Variable_238/Adam:0',\n",
       " 'Variable_238/Adam_1:0',\n",
       " 'Variable_239/Adam:0',\n",
       " 'Variable_239/Adam_1:0',\n",
       " 'Variable_240/Adam:0',\n",
       " 'Variable_240/Adam_1:0',\n",
       " 'Variable_241/Adam:0',\n",
       " 'Variable_241/Adam_1:0',\n",
       " 'Variable_242/Adam:0',\n",
       " 'Variable_242/Adam_1:0',\n",
       " 'Variable_243/Adam:0',\n",
       " 'Variable_243/Adam_1:0',\n",
       " 'Variable_244/Adam:0',\n",
       " 'Variable_244/Adam_1:0',\n",
       " 'Variable_245/Adam:0',\n",
       " 'Variable_245/Adam_1:0',\n",
       " 'Variable_246:0',\n",
       " 'Variable_247:0',\n",
       " 'Variable_248:0',\n",
       " 'Variable_249:0',\n",
       " 'Variable_250:0',\n",
       " 'Variable_251:0',\n",
       " 'Variable_252:0',\n",
       " 'Variable_253:0',\n",
       " 'Variable_254:0',\n",
       " 'Variable_255:0',\n",
       " 'beta1_power_16:0',\n",
       " 'beta2_power_16:0',\n",
       " 'Variable_246/Adam:0',\n",
       " 'Variable_246/Adam_1:0',\n",
       " 'Variable_247/Adam:0',\n",
       " 'Variable_247/Adam_1:0',\n",
       " 'Variable_248/Adam:0',\n",
       " 'Variable_248/Adam_1:0',\n",
       " 'Variable_249/Adam:0',\n",
       " 'Variable_249/Adam_1:0',\n",
       " 'Variable_250/Adam:0',\n",
       " 'Variable_250/Adam_1:0',\n",
       " 'Variable_251/Adam:0',\n",
       " 'Variable_251/Adam_1:0',\n",
       " 'Variable_252/Adam:0',\n",
       " 'Variable_252/Adam_1:0',\n",
       " 'Variable_253/Adam:0',\n",
       " 'Variable_253/Adam_1:0',\n",
       " 'Variable_254/Adam:0',\n",
       " 'Variable_254/Adam_1:0',\n",
       " 'Variable_255/Adam:0',\n",
       " 'Variable_255/Adam_1:0',\n",
       " 'Variable_256:0',\n",
       " 'Variable_257:0',\n",
       " 'Variable_258:0',\n",
       " 'Variable_259:0',\n",
       " 'Variable_260:0',\n",
       " 'Variable_261:0',\n",
       " 'Variable_262:0',\n",
       " 'Variable_263:0',\n",
       " 'Variable_264:0',\n",
       " 'Variable_265:0',\n",
       " 'beta1_power_17:0',\n",
       " 'beta2_power_17:0',\n",
       " 'Variable_256/Adam:0',\n",
       " 'Variable_256/Adam_1:0',\n",
       " 'Variable_257/Adam:0',\n",
       " 'Variable_257/Adam_1:0',\n",
       " 'Variable_258/Adam:0',\n",
       " 'Variable_258/Adam_1:0',\n",
       " 'Variable_259/Adam:0',\n",
       " 'Variable_259/Adam_1:0',\n",
       " 'Variable_260/Adam:0',\n",
       " 'Variable_260/Adam_1:0',\n",
       " 'Variable_261/Adam:0',\n",
       " 'Variable_261/Adam_1:0',\n",
       " 'Variable_262/Adam:0',\n",
       " 'Variable_262/Adam_1:0',\n",
       " 'Variable_263/Adam:0',\n",
       " 'Variable_263/Adam_1:0',\n",
       " 'Variable_264/Adam:0',\n",
       " 'Variable_264/Adam_1:0',\n",
       " 'Variable_265/Adam:0',\n",
       " 'Variable_265/Adam_1:0',\n",
       " 'Variable_266:0',\n",
       " 'Variable_267:0',\n",
       " 'Variable_268:0',\n",
       " 'Variable_269:0',\n",
       " 'Variable_270:0',\n",
       " 'Variable_271:0',\n",
       " 'Variable_272:0',\n",
       " 'Variable_273:0',\n",
       " 'Variable_274:0',\n",
       " 'Variable_275:0',\n",
       " 'beta1_power_18:0',\n",
       " 'beta2_power_18:0',\n",
       " 'Variable_266/Adam:0',\n",
       " 'Variable_266/Adam_1:0',\n",
       " 'Variable_267/Adam:0',\n",
       " 'Variable_267/Adam_1:0',\n",
       " 'Variable_268/Adam:0',\n",
       " 'Variable_268/Adam_1:0',\n",
       " 'Variable_269/Adam:0',\n",
       " 'Variable_269/Adam_1:0',\n",
       " 'Variable_270/Adam:0',\n",
       " 'Variable_270/Adam_1:0',\n",
       " 'Variable_271/Adam:0',\n",
       " 'Variable_271/Adam_1:0',\n",
       " 'Variable_272/Adam:0',\n",
       " 'Variable_272/Adam_1:0',\n",
       " 'Variable_273/Adam:0',\n",
       " 'Variable_273/Adam_1:0',\n",
       " 'Variable_274/Adam:0',\n",
       " 'Variable_274/Adam_1:0',\n",
       " 'Variable_275/Adam:0',\n",
       " 'Variable_275/Adam_1:0',\n",
       " 'Variable_276:0',\n",
       " 'Variable_277:0',\n",
       " 'Variable_278:0',\n",
       " 'Variable_279:0',\n",
       " 'Variable_280:0',\n",
       " 'Variable_281:0',\n",
       " 'Variable_282:0',\n",
       " 'Variable_283:0',\n",
       " 'Variable_284:0',\n",
       " 'Variable_285:0',\n",
       " 'beta1_power_19:0',\n",
       " 'beta2_power_19:0',\n",
       " 'Variable_276/Adam:0',\n",
       " 'Variable_276/Adam_1:0',\n",
       " 'Variable_277/Adam:0',\n",
       " 'Variable_277/Adam_1:0',\n",
       " 'Variable_278/Adam:0',\n",
       " 'Variable_278/Adam_1:0',\n",
       " 'Variable_279/Adam:0',\n",
       " 'Variable_279/Adam_1:0',\n",
       " 'Variable_280/Adam:0',\n",
       " 'Variable_280/Adam_1:0',\n",
       " 'Variable_281/Adam:0',\n",
       " 'Variable_281/Adam_1:0',\n",
       " 'Variable_282/Adam:0',\n",
       " 'Variable_282/Adam_1:0',\n",
       " 'Variable_283/Adam:0',\n",
       " 'Variable_283/Adam_1:0',\n",
       " 'Variable_284/Adam:0',\n",
       " 'Variable_284/Adam_1:0',\n",
       " 'Variable_285/Adam:0',\n",
       " 'Variable_285/Adam_1:0',\n",
       " 'Variable_286:0',\n",
       " 'Variable_287:0',\n",
       " 'Variable_288:0',\n",
       " 'Variable_289:0',\n",
       " 'Variable_290:0',\n",
       " 'Variable_291:0',\n",
       " 'Variable_292:0',\n",
       " 'Variable_293:0',\n",
       " 'Variable_294:0',\n",
       " 'Variable_295:0',\n",
       " 'beta1_power_20:0',\n",
       " 'beta2_power_20:0',\n",
       " 'Variable_286/Adam:0',\n",
       " 'Variable_286/Adam_1:0',\n",
       " 'Variable_287/Adam:0',\n",
       " 'Variable_287/Adam_1:0',\n",
       " 'Variable_288/Adam:0',\n",
       " 'Variable_288/Adam_1:0',\n",
       " 'Variable_289/Adam:0',\n",
       " 'Variable_289/Adam_1:0',\n",
       " 'Variable_290/Adam:0',\n",
       " 'Variable_290/Adam_1:0',\n",
       " 'Variable_291/Adam:0',\n",
       " 'Variable_291/Adam_1:0',\n",
       " 'Variable_292/Adam:0',\n",
       " 'Variable_292/Adam_1:0',\n",
       " 'Variable_293/Adam:0',\n",
       " 'Variable_293/Adam_1:0',\n",
       " 'Variable_294/Adam:0',\n",
       " 'Variable_294/Adam_1:0',\n",
       " 'Variable_295/Adam:0',\n",
       " 'Variable_295/Adam_1:0',\n",
       " 'Variable_296:0',\n",
       " 'Variable_297:0',\n",
       " 'Variable_298:0',\n",
       " 'Variable_299:0',\n",
       " 'Variable_300:0',\n",
       " 'Variable_301:0',\n",
       " 'Variable_302:0',\n",
       " 'Variable_303:0',\n",
       " 'Variable_304:0',\n",
       " 'Variable_305:0',\n",
       " 'beta1_power_21:0',\n",
       " 'beta2_power_21:0',\n",
       " 'Variable_296/Adam:0',\n",
       " 'Variable_296/Adam_1:0',\n",
       " 'Variable_297/Adam:0',\n",
       " 'Variable_297/Adam_1:0',\n",
       " 'Variable_298/Adam:0',\n",
       " 'Variable_298/Adam_1:0',\n",
       " 'Variable_299/Adam:0',\n",
       " 'Variable_299/Adam_1:0',\n",
       " 'Variable_300/Adam:0',\n",
       " 'Variable_300/Adam_1:0',\n",
       " 'Variable_301/Adam:0',\n",
       " 'Variable_301/Adam_1:0',\n",
       " 'Variable_302/Adam:0',\n",
       " 'Variable_302/Adam_1:0',\n",
       " 'Variable_303/Adam:0',\n",
       " 'Variable_303/Adam_1:0',\n",
       " 'Variable_304/Adam:0',\n",
       " 'Variable_304/Adam_1:0',\n",
       " 'Variable_305/Adam:0',\n",
       " 'Variable_305/Adam_1:0',\n",
       " 'Variable_306:0',\n",
       " 'Variable_307:0',\n",
       " 'Variable_308:0',\n",
       " 'Variable_309:0',\n",
       " 'Variable_310:0',\n",
       " 'Variable_311:0',\n",
       " 'Variable_312:0',\n",
       " 'Variable_313:0',\n",
       " 'Variable_314:0',\n",
       " 'Variable_315:0',\n",
       " 'beta1_power_22:0',\n",
       " 'beta2_power_22:0',\n",
       " 'Variable_306/Adam:0',\n",
       " 'Variable_306/Adam_1:0',\n",
       " 'Variable_307/Adam:0',\n",
       " 'Variable_307/Adam_1:0',\n",
       " 'Variable_308/Adam:0',\n",
       " 'Variable_308/Adam_1:0',\n",
       " 'Variable_309/Adam:0',\n",
       " 'Variable_309/Adam_1:0',\n",
       " 'Variable_310/Adam:0',\n",
       " 'Variable_310/Adam_1:0',\n",
       " 'Variable_311/Adam:0',\n",
       " 'Variable_311/Adam_1:0',\n",
       " 'Variable_312/Adam:0',\n",
       " 'Variable_312/Adam_1:0',\n",
       " 'Variable_313/Adam:0',\n",
       " 'Variable_313/Adam_1:0',\n",
       " 'Variable_314/Adam:0',\n",
       " 'Variable_314/Adam_1:0',\n",
       " 'Variable_315/Adam:0',\n",
       " 'Variable_315/Adam_1:0',\n",
       " 'Variable_316:0',\n",
       " 'Variable_317:0',\n",
       " 'Variable_318:0',\n",
       " 'Variable_319:0',\n",
       " 'Variable_320:0',\n",
       " 'Variable_321:0',\n",
       " 'Variable_322:0',\n",
       " 'Variable_323:0',\n",
       " 'Variable_324:0',\n",
       " 'Variable_325:0',\n",
       " 'beta1_power_23:0',\n",
       " 'beta2_power_23:0',\n",
       " 'Variable_316/Adam:0',\n",
       " 'Variable_316/Adam_1:0',\n",
       " 'Variable_317/Adam:0',\n",
       " 'Variable_317/Adam_1:0',\n",
       " 'Variable_318/Adam:0',\n",
       " 'Variable_318/Adam_1:0',\n",
       " 'Variable_319/Adam:0',\n",
       " 'Variable_319/Adam_1:0',\n",
       " 'Variable_320/Adam:0',\n",
       " 'Variable_320/Adam_1:0',\n",
       " 'Variable_321/Adam:0',\n",
       " 'Variable_321/Adam_1:0',\n",
       " 'Variable_322/Adam:0',\n",
       " 'Variable_322/Adam_1:0',\n",
       " 'Variable_323/Adam:0',\n",
       " 'Variable_323/Adam_1:0',\n",
       " 'Variable_324/Adam:0',\n",
       " 'Variable_324/Adam_1:0',\n",
       " 'Variable_325/Adam:0',\n",
       " 'Variable_325/Adam_1:0',\n",
       " 'Variable_326:0',\n",
       " 'Variable_327:0',\n",
       " 'Variable_328:0',\n",
       " 'Variable_329:0',\n",
       " 'Variable_330:0',\n",
       " 'Variable_331:0',\n",
       " 'Variable_332:0',\n",
       " 'Variable_333:0',\n",
       " 'Variable_334:0',\n",
       " 'Variable_335:0',\n",
       " 'beta1_power_24:0',\n",
       " 'beta2_power_24:0',\n",
       " 'Variable_326/Adam:0',\n",
       " 'Variable_326/Adam_1:0',\n",
       " 'Variable_327/Adam:0',\n",
       " 'Variable_327/Adam_1:0',\n",
       " 'Variable_328/Adam:0',\n",
       " 'Variable_328/Adam_1:0',\n",
       " 'Variable_329/Adam:0',\n",
       " 'Variable_329/Adam_1:0',\n",
       " 'Variable_330/Adam:0',\n",
       " 'Variable_330/Adam_1:0',\n",
       " 'Variable_331/Adam:0',\n",
       " 'Variable_331/Adam_1:0',\n",
       " 'Variable_332/Adam:0',\n",
       " 'Variable_332/Adam_1:0',\n",
       " 'Variable_333/Adam:0',\n",
       " 'Variable_333/Adam_1:0',\n",
       " 'Variable_334/Adam:0',\n",
       " 'Variable_334/Adam_1:0',\n",
       " 'Variable_335/Adam:0',\n",
       " 'Variable_335/Adam_1:0',\n",
       " 'Variable_336:0',\n",
       " 'Variable_337:0',\n",
       " 'Variable_338:0',\n",
       " 'Variable_339:0',\n",
       " 'Variable_340:0',\n",
       " 'Variable_341:0',\n",
       " 'Variable_342:0',\n",
       " 'Variable_343:0',\n",
       " 'Variable_344:0',\n",
       " 'Variable_345:0',\n",
       " 'beta1_power_25:0',\n",
       " 'beta2_power_25:0',\n",
       " 'Variable_336/Adam:0',\n",
       " 'Variable_336/Adam_1:0',\n",
       " 'Variable_337/Adam:0',\n",
       " 'Variable_337/Adam_1:0',\n",
       " 'Variable_338/Adam:0',\n",
       " 'Variable_338/Adam_1:0',\n",
       " 'Variable_339/Adam:0',\n",
       " 'Variable_339/Adam_1:0',\n",
       " 'Variable_340/Adam:0',\n",
       " 'Variable_340/Adam_1:0',\n",
       " 'Variable_341/Adam:0',\n",
       " 'Variable_341/Adam_1:0',\n",
       " 'Variable_342/Adam:0',\n",
       " 'Variable_342/Adam_1:0',\n",
       " 'Variable_343/Adam:0',\n",
       " 'Variable_343/Adam_1:0',\n",
       " 'Variable_344/Adam:0',\n",
       " 'Variable_344/Adam_1:0',\n",
       " 'Variable_345/Adam:0',\n",
       " 'Variable_345/Adam_1:0',\n",
       " 'Variable_346:0',\n",
       " 'Variable_347:0',\n",
       " 'Variable_348:0',\n",
       " 'Variable_349:0',\n",
       " 'Variable_350:0',\n",
       " 'Variable_351:0',\n",
       " 'Variable_352:0',\n",
       " 'Variable_353:0',\n",
       " 'Variable_354:0',\n",
       " 'Variable_355:0',\n",
       " 'beta1_power_26:0',\n",
       " 'beta2_power_26:0',\n",
       " 'Variable_346/Adam:0',\n",
       " 'Variable_346/Adam_1:0',\n",
       " 'Variable_347/Adam:0',\n",
       " 'Variable_347/Adam_1:0',\n",
       " 'Variable_348/Adam:0',\n",
       " 'Variable_348/Adam_1:0',\n",
       " 'Variable_349/Adam:0',\n",
       " 'Variable_349/Adam_1:0',\n",
       " 'Variable_350/Adam:0',\n",
       " 'Variable_350/Adam_1:0',\n",
       " 'Variable_351/Adam:0',\n",
       " 'Variable_351/Adam_1:0',\n",
       " 'Variable_352/Adam:0',\n",
       " 'Variable_352/Adam_1:0',\n",
       " 'Variable_353/Adam:0',\n",
       " 'Variable_353/Adam_1:0',\n",
       " 'Variable_354/Adam:0',\n",
       " 'Variable_354/Adam_1:0',\n",
       " 'Variable_355/Adam:0',\n",
       " 'Variable_355/Adam_1:0',\n",
       " 'Variable_356:0',\n",
       " 'Variable_357:0',\n",
       " 'Variable_358:0',\n",
       " 'Variable_359:0',\n",
       " 'Variable_360:0',\n",
       " 'Variable_361:0',\n",
       " 'Variable_362:0',\n",
       " 'Variable_363:0',\n",
       " 'Variable_364:0',\n",
       " 'Variable_365:0',\n",
       " 'beta1_power_27:0',\n",
       " 'beta2_power_27:0',\n",
       " 'Variable_356/Adam:0',\n",
       " 'Variable_356/Adam_1:0',\n",
       " 'Variable_357/Adam:0',\n",
       " 'Variable_357/Adam_1:0',\n",
       " 'Variable_358/Adam:0',\n",
       " 'Variable_358/Adam_1:0',\n",
       " 'Variable_359/Adam:0',\n",
       " 'Variable_359/Adam_1:0',\n",
       " 'Variable_360/Adam:0',\n",
       " 'Variable_360/Adam_1:0',\n",
       " 'Variable_361/Adam:0',\n",
       " 'Variable_361/Adam_1:0',\n",
       " 'Variable_362/Adam:0',\n",
       " 'Variable_362/Adam_1:0',\n",
       " 'Variable_363/Adam:0',\n",
       " 'Variable_363/Adam_1:0',\n",
       " 'Variable_364/Adam:0',\n",
       " 'Variable_364/Adam_1:0',\n",
       " 'Variable_365/Adam:0',\n",
       " 'Variable_365/Adam_1:0',\n",
       " 'Variable_366:0',\n",
       " 'Variable_367:0',\n",
       " 'Variable_368:0',\n",
       " 'Variable_369:0',\n",
       " 'Variable_370:0',\n",
       " 'Variable_371:0',\n",
       " 'Variable_372:0',\n",
       " 'Variable_373:0',\n",
       " 'Variable_374:0',\n",
       " 'Variable_375:0',\n",
       " 'beta1_power_28:0',\n",
       " 'beta2_power_28:0',\n",
       " 'Variable_366/Adam:0',\n",
       " 'Variable_366/Adam_1:0',\n",
       " 'Variable_367/Adam:0',\n",
       " 'Variable_367/Adam_1:0',\n",
       " 'Variable_368/Adam:0',\n",
       " 'Variable_368/Adam_1:0',\n",
       " ...]"
      ]
     },
     "execution_count": 521,
     "metadata": {},
     "output_type": "execute_result"
    }
   ],
   "source": [
    "[v.name for v in tf.global_variables()]"
   ]
  },
  {
   "cell_type": "code",
   "execution_count": null,
   "metadata": {
    "collapsed": true
   },
   "outputs": [],
   "source": []
  }
 ],
 "metadata": {
  "anaconda-cloud": {},
  "kernelspec": {
   "display_name": "Python 3",
   "language": "python",
   "name": "python3"
  },
  "language_info": {
   "codemirror_mode": {
    "name": "ipython",
    "version": 3
   },
   "file_extension": ".py",
   "mimetype": "text/x-python",
   "name": "python",
   "nbconvert_exporter": "python",
   "pygments_lexer": "ipython3",
   "version": "3.5.2"
  },
  "widgets": {
   "state": {
    "0b51d2e5976e42fd9bf97f7fd7396924": {
     "views": [
      {
       "cell_index": 33
      }
     ]
    },
    "0bea67c6471445f091b99b2cb1f5bc60": {
     "views": []
    },
    "0e3a47031c81403ea6d7af450adaf436": {
     "views": []
    },
    "0f0d004f77b642ee8b9158cf05a2ece8": {
     "views": []
    },
    "1278374fbb9a4aa9becf792e2da7ae97": {
     "views": []
    },
    "1a13be68a6c54273b8933dc9daa369bd": {
     "views": []
    },
    "1a314ec7b2b04ba484ca92b8aa567920": {
     "views": []
    },
    "1df78c3e269a426f942c68f0654a77b4": {
     "views": []
    },
    "1dff256c25e54eb8b4b6e8dbfae4a7a5": {
     "views": []
    },
    "20fd4130f29743cf8e060f013b147c96": {
     "views": []
    },
    "210f71ed6aab4a3eb8471c2dc3fae174": {
     "views": []
    },
    "28db2103bc5f46fcbc8b3b7554518f6d": {
     "views": []
    },
    "2d15b4bef418492aa796396045282071": {
     "views": []
    },
    "328d72cf204e47568c90484b207c7d03": {
     "views": []
    },
    "36fef7cd6b5e47b7b8c0d7988ac9f37c": {
     "views": []
    },
    "3aec3d17b2f64f059b41e9d93a8befbd": {
     "views": [
      {
       "cell_index": 33
      }
     ]
    },
    "4a6f467bac26418988c029db1f8b8f8f": {
     "views": [
      {
       "cell_index": 33
      }
     ]
    },
    "4b96d049a98a4d15ae7a3f2fcc365705": {
     "views": []
    },
    "4ec1eccc272a4a7bbae867b44e1475f2": {
     "views": []
    },
    "53857fd1c5d24ab4813b7ae1da985529": {
     "views": [
      {
       "cell_index": 33
      }
     ]
    },
    "53bc3b0bc4594aa493cabc0fb459985c": {
     "views": []
    },
    "59dea7c5ff7549c6b1e783646c72f388": {
     "views": []
    },
    "5d46acd06f0d44afabe5416184532e34": {
     "views": [
      {
       "cell_index": 33
      }
     ]
    },
    "5ef5dcb9d826484581af046de18ef022": {
     "views": [
      {
       "cell_index": 33
      }
     ]
    },
    "648951a81b8d42f3839eb0a178dabda9": {
     "views": []
    },
    "64f550dabc414f4da8a63a93fd36dcbb": {
     "views": [
      {
       "cell_index": 33
      }
     ]
    },
    "6e8fff5969424ec590650a847c75bc8e": {
     "views": []
    },
    "70b709a11a004ab48e5d70bb8b9a1fac": {
     "views": []
    },
    "743843224dde419794bc6347c30c780d": {
     "views": []
    },
    "78567f0a8b6e493bbded82cde61ef398": {
     "views": []
    },
    "789f49d7742d405982aa3b5ba1f16c61": {
     "views": []
    },
    "7ce61d7f8d384be5b831824024c2cbd0": {
     "views": []
    },
    "7d4b214403f84ec683c8f3dfb4ddae90": {
     "views": []
    },
    "8075f0f013d5470cb66890a87805a1b8": {
     "views": []
    },
    "834f81904e5b499284c9870d6de4d379": {
     "views": []
    },
    "87fb376e48b749c9aa93636a4530c83c": {
     "views": [
      {
       "cell_index": 33
      }
     ]
    },
    "89e902739aaa4ff7abf408e1c93290a3": {
     "views": []
    },
    "985ad627e4b44310b211a61f2f9130d2": {
     "views": []
    },
    "a3e62862031d495b8e6c2be435708ccd": {
     "views": []
    },
    "a619bbf9954546beb11139bea3f1f797": {
     "views": []
    },
    "a67c52cc81f548879bdf8c6ca9bd9754": {
     "views": []
    },
    "a79443c292da445a90f8a414f0637a04": {
     "views": []
    },
    "aa22724ee34c4166afaa2f9629953b65": {
     "views": []
    },
    "abf9d47148464e378d21df9ac1c48845": {
     "views": []
    },
    "b0ca10bb2a394264b4dd38b6b8a0e866": {
     "views": []
    },
    "b4eecc2864594bcda0712bf21cec3f92": {
     "views": []
    },
    "ba9eb737f8d34bfc85205eb5d19722bc": {
     "views": []
    },
    "bb54efdded5b4be0ac5cb01cbb9ef865": {
     "views": []
    },
    "bd0c7b73ec314c24b001219bdb526ba6": {
     "views": []
    },
    "bd5af52e1af041089e5bee425daf4183": {
     "views": []
    },
    "c1cd7a03525c42fab537a4d2b7fd09f2": {
     "views": []
    },
    "c225aaa28ea64f78a62d0daf873ffc0e": {
     "views": []
    },
    "c67e3c1e105a4ebfaee2cd486a062ce6": {
     "views": []
    },
    "c8c1564756f84756bc18503d622f2fb1": {
     "views": []
    },
    "ca3535f397cd4b57ab34907cb0f1f4ed": {
     "views": [
      {
       "cell_index": 33
      }
     ]
    },
    "cf318cfaa4b84c6c80216ad59bada9c9": {
     "views": []
    },
    "d0ad336dce7649fa8eb22ba1d8902126": {
     "views": []
    },
    "d6c7cd8ea3444398a60e3ba9763b32c7": {
     "views": []
    },
    "d8105b67efa94127ba1d2811070420da": {
     "views": []
    },
    "dd7c647b5ffc4e4dae9bfb41a7606d19": {
     "views": []
    },
    "e1b3cff3016542eeb26890504307a2e9": {
     "views": []
    },
    "e4bbb5ba1baa4598b64e2214fb9a81b3": {
     "views": []
    },
    "ebaf7b1a390142c4b67781788a2b9981": {
     "views": []
    },
    "ec5c004e6c0f4010ada2abe1ca1ab601": {
     "views": []
    },
    "edee0a5ec1fe41ca8cd71281ff6e5e36": {
     "views": []
    },
    "f1e9203e29d14af5a38f8f80937775ba": {
     "views": []
    },
    "f2b6008f202e4fe8abf5b745bc56d2b0": {
     "views": []
    },
    "f6552a377e6e473d9e3114df9716abdd": {
     "views": []
    },
    "f85c698e59f64f6db11b529cbab64389": {
     "views": [
      {
       "cell_index": 33
      }
     ]
    },
    "f86f2812d41e41b28cfbe83fef8ac424": {
     "views": []
    },
    "f8cf2c316187425690e7e1002912c8eb": {
     "views": []
    },
    "fbbc968442da44e688c759c4988e97da": {
     "views": []
    }
   },
   "version": "1.1.2"
  }
 },
 "nbformat": 4,
 "nbformat_minor": 1
}
